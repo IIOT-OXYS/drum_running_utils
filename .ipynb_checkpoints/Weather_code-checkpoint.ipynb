{
 "cells": [
  {
   "cell_type": "code",
   "execution_count": null,
   "metadata": {},
   "outputs": [],
   "source": [
    "##Excess Code For Weather--Temp Acquisition\n",
    "#apikey ='d1a8b0f55efcd0a85d11133a366ec7b5'\n",
    "#lat= 42.418769 #Lattitude for Holden, MA\n",
    "#lng = -71.828282 #Longitude for Holden, MA\n",
    "#loc= [lat,lng]\n",
    "#Initialize Location of Temperature query\n",
    "#fio = ForecastIO.ForecastIO(apikey,\n",
    "#                           units=ForecastIO.ForecastIO.UNITS_SI,\n",
    "#                           lang=ForecastIO.ForecastIO.LANG_ENGLISH,\n",
    "#                           latitude=loc[0], longitude=loc[1])\n",
    "#print('Latitude:', fio.latitude, 'Longitude:', fio.longitude)\n",
    "#print('Timezone', fio.timezone, 'Offset', fio.offset)"
   ]
  },
  {
   "cell_type": "code",
   "execution_count": null,
   "metadata": {},
   "outputs": [],
   "source": [
    "#if fio.has_hourly() is True:\n",
    "#    hourly = FIOHourly.FIOHourly(fio)\n",
    "#    current = FIOCurrently.FIOCurrently(fio)\n",
    "#    print('Hourly')\n",
    "#    print('Temperature:', current.temperature)\n",
    "#    print('Icon:', hourly.icon)"
   ]
  },
  {
   "cell_type": "code",
   "execution_count": null,
   "metadata": {},
   "outputs": [],
   "source": [
    "#Temperature Data Acquisition\n",
    "#def get_temp(city, time):\n",
    "#    apikey = 'd1a8b0f55efcd0a85d11133a366ec7b5'\n",
    "#    #PARAMS = {'address':location} \n",
    "#    url = 'https://api.darksky.net/forecast/%s/%s,%s,%s' % (apikey,\n",
    "#                                                            str(city[0]), \n",
    "#                                                            str(city[1]),\n",
    "#                                                            time)\n",
    "#    r = requests.get(url)                                   \n",
    "#    return r"
   ]
  },
  {
   "cell_type": "code",
   "execution_count": null,
   "metadata": {},
   "outputs": [],
   "source": [
    "#time = datetime.strptime(start, '%Y-%m-%d %H:%M:%S.%f')\n",
    "#time = time.strftime(\"%Y-%m-%d %H:%M:%S\")\n",
    "#t = str(time).split()\n",
    "#t.append('T')\n",
    "#time = str(t[0] + t[2] + t[1])\n",
    "#print(time)\n",
    "#get_temp(loc, time)"
   ]
  },
  {
   "cell_type": "code",
   "execution_count": null,
   "metadata": {},
   "outputs": [],
   "source": [
    "#Temperature Array Throughout the Day\n",
    "#temp = [] #init Temperature Array\n",
    "#for i in master['received']:\n",
    "#    try:\n",
    "#        time = datetime.strptime(i, '%Y-%m-%d %H:%M:%S.%f')\n",
    "#    except:\n",
    "#        i += '.0'\n",
    "#        time = datetime.strptime(i, '%Y-%m-%d %H:%M:%S.%f')\n",
    "#    t = str(time).split()\n",
    "#    t.append('T')\n",
    "#    time = str(t[0] + t[2] + t[1])\n",
    "    \n",
    "    #call temp function\n",
    "#    t = get_temp(loc, time)\n",
    "#    print(time.timestamp())\n",
    "#    temp.append(t)\n",
    "#print(len(temp))"
   ]
  }
 ],
 "metadata": {
  "kernelspec": {
   "display_name": "Python 3",
   "language": "python",
   "name": "python3"
  },
  "language_info": {
   "codemirror_mode": {
    "name": "ipython",
    "version": 3
   },
   "file_extension": ".py",
   "mimetype": "text/x-python",
   "name": "python",
   "nbconvert_exporter": "python",
   "pygments_lexer": "ipython3",
   "version": "3.7.4"
  }
 },
 "nbformat": 4,
 "nbformat_minor": 2
}
