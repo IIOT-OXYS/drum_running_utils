{
 "cells": [
  {
   "cell_type": "code",
   "execution_count": 4,
   "metadata": {},
   "outputs": [
    {
     "ename": "ModuleNotFoundError",
     "evalue": "No module named 'forecastio'",
     "output_type": "error",
     "traceback": [
      "\u001b[0;31m---------------------------------------------------------------------------\u001b[0m",
      "\u001b[0;31mModuleNotFoundError\u001b[0m                       Traceback (most recent call last)",
      "\u001b[0;32m<ipython-input-4-68bd91097f0a>\u001b[0m in \u001b[0;36m<module>\u001b[0;34m\u001b[0m\n\u001b[1;32m      2\u001b[0m \u001b[0;32mfrom\u001b[0m \u001b[0mdatetime\u001b[0m \u001b[0;32mimport\u001b[0m \u001b[0mdatetime\u001b[0m\u001b[0;34m\u001b[0m\u001b[0;34m\u001b[0m\u001b[0m\n\u001b[1;32m      3\u001b[0m \u001b[0;32mfrom\u001b[0m \u001b[0mpandas\u001b[0m \u001b[0;32mimport\u001b[0m \u001b[0mread_csv\u001b[0m\u001b[0;34m\u001b[0m\u001b[0;34m\u001b[0m\u001b[0m\n\u001b[0;32m----> 4\u001b[0;31m \u001b[0;32mimport\u001b[0m \u001b[0mforecastio\u001b[0m\u001b[0;34m\u001b[0m\u001b[0;34m\u001b[0m\u001b[0m\n\u001b[0m",
      "\u001b[0;31mModuleNotFoundError\u001b[0m: No module named 'forecastio'"
     ]
    }
   ],
   "source": [
    "import matplotlib.pyplot as plt\n",
    "from datetime import datetime\n",
    "from pandas import read_csv\n",
    "#import forecastio"
   ]
  },
  {
   "cell_type": "code",
   "execution_count": null,
   "metadata": {},
   "outputs": [],
   "source": [
    "api_key = 'd1a8b0f55efcd0a85d11133a366ec7b5' #Key to access Weather API"
   ]
  },
  {
   "cell_type": "code",
   "execution_count": null,
   "metadata": {},
   "outputs": [],
   "source": [
    "master = read_csv('~/bridge/sept01.csv') #CSV data acquisition "
   ]
  },
  {
   "cell_type": "code",
   "execution_count": null,
   "metadata": {
    "scrolled": true
   },
   "outputs": [],
   "source": [
    "#Start and Stop Time for each day\n",
    "end = len(master)\n",
    "start = master['received'][0]\n",
    "stop = master['received'][end-1]\n",
    "#print('Start Time: ', start)\n",
    "#print('Stop Time: ', stop)"
   ]
  },
  {
   "cell_type": "code",
   "execution_count": null,
   "metadata": {
    "scrolled": true
   },
   "outputs": [],
   "source": [
    "#Inclination Max/Min Over time span\n",
    "#Sensor 1\n",
    "for i in range(1,7):\n",
    "    print('Sensor ', i)\n",
    "    print('Inclination Min: ', min(master['incl_' + str(i)][:]))\n",
    "    print('Inclination Max: ', max(master['incl_' + str(i)][:]))"
   ]
  },
  {
   "cell_type": "code",
   "execution_count": 3,
   "metadata": {},
   "outputs": [
    {
     "ename": "NameError",
     "evalue": "name 'start' is not defined",
     "output_type": "error",
     "traceback": [
      "\u001b[0;31m---------------------------------------------------------------------------\u001b[0m",
      "\u001b[0;31mNameError\u001b[0m                                 Traceback (most recent call last)",
      "\u001b[0;32m<ipython-input-3-6f8eb5d58860>\u001b[0m in \u001b[0;36m<module>\u001b[0;34m\u001b[0m\n\u001b[1;32m      1\u001b[0m \u001b[0;31m#Datetime formatting\u001b[0m\u001b[0;34m\u001b[0m\u001b[0;34m\u001b[0m\u001b[0;34m\u001b[0m\u001b[0m\n\u001b[0;32m----> 2\u001b[0;31m \u001b[0mstart\u001b[0m \u001b[0;34m=\u001b[0m \u001b[0mstr\u001b[0m\u001b[0;34m(\u001b[0m\u001b[0mstart\u001b[0m\u001b[0;34m)\u001b[0m\u001b[0;34m\u001b[0m\u001b[0;34m\u001b[0m\u001b[0m\n\u001b[0m\u001b[1;32m      3\u001b[0m \u001b[0mstop\u001b[0m \u001b[0;34m=\u001b[0m \u001b[0mstr\u001b[0m\u001b[0;34m(\u001b[0m\u001b[0mstop\u001b[0m\u001b[0;34m)\u001b[0m\u001b[0;34m\u001b[0m\u001b[0;34m\u001b[0m\u001b[0m\n\u001b[1;32m      4\u001b[0m \u001b[0;34m\u001b[0m\u001b[0m\n\u001b[1;32m      5\u001b[0m \u001b[0mprint\u001b[0m\u001b[0;34m(\u001b[0m\u001b[0mstart\u001b[0m\u001b[0;34m)\u001b[0m\u001b[0;34m\u001b[0m\u001b[0;34m\u001b[0m\u001b[0m\n",
      "\u001b[0;31mNameError\u001b[0m: name 'start' is not defined"
     ]
    }
   ],
   "source": [
    "#Datetime formatting\n",
    "start = str(start)\n",
    "stop = str(stop)\n",
    "\n",
    "print(start)\n",
    "print(stop)\n",
    "\n",
    "start = datetime.strptime(start, '%Y-%m-%d %H:%M:%S.%f')\n",
    "stop = datetime.strptime(stop, '%Y-%m-%d %H:%M:%S.%f')\n"
   ]
  },
  {
   "cell_type": "code",
   "execution_count": null,
   "metadata": {
    "scrolled": true
   },
   "outputs": [],
   "source": [
    "#Temperature Data Acquisition\n",
    "def get_temp(time):\n",
    "    \n",
    "    #Query Weather API For temp over 24 hours window\n",
    "    \n",
    "    return temp\n",
    "    "
   ]
  },
  {
   "cell_type": "code",
   "execution_count": null,
   "metadata": {},
   "outputs": [],
   "source": [
    "#Temperature Array Throughout the Day\n",
    "Temp = [] #init Temperature Array\n",
    "for i in range(start, stop):\n",
    "    t = get_temp(#@i)\n",
    "    Temp.append(t)\n"
   ]
  },
  {
   "cell_type": "code",
   "execution_count": null,
   "metadata": {},
   "outputs": [],
   "source": [
    "#Plot Formatting\n",
    "plt.rcParams[\"figure.figsize\"] = (50, 10)\n",
    "accel = plt\n",
    "temp = plt\n",
    "inc = plt"
   ]
  },
  {
   "cell_type": "code",
   "execution_count": null,
   "metadata": {},
   "outputs": [],
   "source": [
    "#Plot acceleration 01-x\n",
    "ax = plt.gca()\n",
    "master.plot(kind='line',x='received',y='accel_1_x',color='red', ax=ax)\n",
    "accel.ylabel('Axis - X')\n",
    "accel.title(\"Accelerometer One - Uxbridge, MA Resevoir Street\")\n",
    "accel.xlabel('24 hrs')\n",
    "accel.grid(True)\n",
    "\n",
    "accel.show()\n"
   ]
  },
  {
   "cell_type": "code",
   "execution_count": null,
   "metadata": {},
   "outputs": [],
   "source": [
    "#Plot acceleration 01-y\n",
    "ax = plt.gca()\n",
    "master.plot(kind='line',x='received',y='accel_1_y',color='red', ax=ax)\n",
    "accel.ylabel('Axis - Y')\n",
    "accel.title(\"Accelerometer One - Uxbridge, MA Chocolog Street\")\n",
    "accel.xlabel('24 hrs')\n",
    "accel.grid(True)\n",
    "\n",
    "accel.show()\n"
   ]
  },
  {
   "cell_type": "code",
   "execution_count": null,
   "metadata": {},
   "outputs": [],
   "source": [
    "#Plot acceleration 01-z\n",
    "ax = plt.gca()\n",
    "master.plot(kind='line',x='received',y='accel_1_z',color='red', ax=ax)\n",
    "accel.ylabel('Axis - Z')\n",
    "accel.title(\"Accelerometer One - Uxbridge, MA Chocolog Street\")\n",
    "accel.xlabel('24 hrs')\n",
    "accel.grid(True)\n",
    "\n",
    "accel.show()\n"
   ]
  },
  {
   "cell_type": "code",
   "execution_count": null,
   "metadata": {},
   "outputs": [],
   "source": [
    "#Plot acceleration 02-x\n",
    "ax = plt.gca()\n",
    "master.plot(kind='line',x='received',y='accel_2_x',color='red', ax=ax)\n",
    "accel.ylabel('Axis - X')\n",
    "accel.title(\"Accelerometer Two - Uxbridge, MA Chocolog Street\")\n",
    "accel.xlabel('24 hrs')\n",
    "accel.grid(True)\n",
    "\n",
    "accel.show()"
   ]
  },
  {
   "cell_type": "code",
   "execution_count": null,
   "metadata": {},
   "outputs": [],
   "source": [
    "#Plot acceleration 02-y\n",
    "ax = plt.gca()\n",
    "master.plot(kind='line',x='received',y='accel_2_y',color='red', ax=ax)\n",
    "accel.ylabel('Axis - Y')\n",
    "accel.title(\"Accelerometer Two - Uxbridge, MA Chocolog Street\")\n",
    "accel.xlabel('24 hrs')\n",
    "accel.grid(True)\n",
    "\n",
    "accel.show()\n"
   ]
  },
  {
   "cell_type": "code",
   "execution_count": null,
   "metadata": {},
   "outputs": [],
   "source": [
    "#Plot acceleration 02-z\n",
    "ax = plt.gca()\n",
    "master.plot(kind='line',x='received',y='accel_2_z',color='red', ax=ax)\n",
    "accel.ylabel('Axis - Z')\n",
    "accel.title(\"Accelerometer Two - Uxbridge, MA Chocolog Street\")\n",
    "accel.xlabel('24 hrs')\n",
    "accel.grid(True)\n",
    "\n",
    "accel.show()"
   ]
  },
  {
   "cell_type": "code",
   "execution_count": null,
   "metadata": {},
   "outputs": [],
   "source": [
    "#Plot acceleration 03-x\n",
    "ax = plt.gca()\n",
    "master.plot(kind='line',x='received',y='accel_3_x',color='red', ax=ax)\n",
    "accel.ylabel('Axis - X')\n",
    "accel.title(\"Accelerometer Three - Uxbridge, MA Chocolog Street\")\n",
    "accel.xlabel('24 hrs')\n",
    "accel.grid(True)\n",
    "\n",
    "accel.show()"
   ]
  },
  {
   "cell_type": "code",
   "execution_count": null,
   "metadata": {},
   "outputs": [],
   "source": [
    "#Plot acceleration 03-y\n",
    "ax = plt.gca()\n",
    "master.plot(kind='line',x='received',y='accel_3_y',color='red', ax=ax)\n",
    "accel.ylabel('Axis - Y')\n",
    "accel.title(\"Accelerometer Three - Uxbridge, MA Chocolog Street\")\n",
    "accel.xlabel('24 hrs')\n",
    "accel.grid(True)\n",
    "\n",
    "accel.show()"
   ]
  },
  {
   "cell_type": "code",
   "execution_count": null,
   "metadata": {},
   "outputs": [],
   "source": [
    "#Plot acceleration 03-z\n",
    "ax = plt.gca()\n",
    "master.plot(kind='line',x='received',y='accel_3_z',color='red', ax=ax)\n",
    "accel.ylabel('Axis - Z')\n",
    "accel.title(\"Accelerometer Three - Uxbridge, MA Chocolog Street\")\n",
    "accel.xlabel('24 hrs')\n",
    "accel.grid(True)\n",
    "\n",
    "accel.show()\n"
   ]
  },
  {
   "cell_type": "code",
   "execution_count": null,
   "metadata": {},
   "outputs": [],
   "source": [
    "#Plot acceleration 04-x\n",
    "ax = plt.gca()\n",
    "master.plot(kind='line',x='received',y='accel_4_x',color='red', ax=ax)\n",
    "accel.ylabel('Axis - X')\n",
    "accel.title(\"Accelerometer Four - Uxbridge, MA Chocolog Street\")\n",
    "accel.xlabel('24 hrs')\n",
    "accel.grid(True)\n",
    "\n",
    "accel.show()\n"
   ]
  },
  {
   "cell_type": "code",
   "execution_count": null,
   "metadata": {},
   "outputs": [],
   "source": [
    "#Plot acceleration 04-y\n",
    "ax = plt.gca()\n",
    "master.plot(kind='line',x='received',y='accel_4_y',color='red', ax=ax)\n",
    "accel.ylabel('Axis - Y')\n",
    "accel.title(\"Accelerometer Four - Uxbridge, MA Chocolog Street\")\n",
    "accel.xlabel('24 hrs')\n",
    "accel.grid(True)\n",
    "\n",
    "accel.show()"
   ]
  },
  {
   "cell_type": "code",
   "execution_count": null,
   "metadata": {},
   "outputs": [],
   "source": [
    "#Plot acceleration 04-z\n",
    "ax = plt.gca()\n",
    "master.plot(kind='line',x='received',y='accel_4_z',color='red', ax=ax)\n",
    "accel.ylabel('Axis - Z')\n",
    "accel.title(\"Accelerometer Four - Uxbridge, MA Chocolog Street\")\n",
    "accel.xlabel('24 hrs')\n",
    "accel.grid(True)\n",
    "\n",
    "accel.show()"
   ]
  },
  {
   "cell_type": "code",
   "execution_count": null,
   "metadata": {},
   "outputs": [],
   "source": [
    "#Plot acceleration 05-x\n",
    "ax = plt.gca()\n",
    "master.plot(kind='line',x='received',y='accel_5_x',color='red', ax=ax)\n",
    "accel.ylabel('Axis - X')\n",
    "accel.title(\"Accelerometer Five - Uxbridge, MA Chocolog Street\")\n",
    "accel.xlabel('24 hrs')\n",
    "accel.grid(True)\n",
    "\n",
    "accel.show()"
   ]
  },
  {
   "cell_type": "code",
   "execution_count": null,
   "metadata": {},
   "outputs": [],
   "source": [
    "#Plot acceleration 05-y\n",
    "ax = plt.gca()\n",
    "master.plot(kind='line',x='received',y='accel_5_y',color='red', ax=ax)\n",
    "accel.ylabel('Axis - Y')\n",
    "accel.title(\"Accelerometer Five - Uxbridge, MA Chocolog Street\")\n",
    "accel.xlabel('24 hrs')\n",
    "accel.grid(True)\n",
    "\n",
    "accel.show()"
   ]
  },
  {
   "cell_type": "code",
   "execution_count": null,
   "metadata": {},
   "outputs": [],
   "source": [
    "#Plot acceleration 05-z\n",
    "ax = plt.gca()\n",
    "master.plot(kind='line',x='received',y='accel_5_z',color='red', ax=ax)\n",
    "accel.ylabel('Axis - Z')\n",
    "accel.title(\"Accelerometer Five - Uxbridge, MA Chocolog Street\")\n",
    "accel.xlabel('24 hrs')\n",
    "accel.grid(True)\n",
    "\n",
    "accel.show()\n"
   ]
  },
  {
   "cell_type": "code",
   "execution_count": null,
   "metadata": {},
   "outputs": [],
   "source": [
    "#Plot acceleration 06-x\n",
    "ax = plt.gca()\n",
    "master.plot(kind='line',x='received',y='accel_6_x',color='red', ax=ax)\n",
    "accel.ylabel('Axis - X')\n",
    "accel.title(\"Accelerometer Six - Uxbridge, MA Chocolog Street\")\n",
    "accel.xlabel('24 hrs')\n",
    "accel.grid(True)\n",
    "\n",
    "accel.show()"
   ]
  },
  {
   "cell_type": "code",
   "execution_count": null,
   "metadata": {},
   "outputs": [],
   "source": [
    "#Plot acceleration 06-y\n",
    "ax = plt.gca()\n",
    "master.plot(kind='line',x='received',y='accel_6_y',color='red', ax=ax)\n",
    "accel.ylabel('Axis - Y')\n",
    "accel.title(\"Accelerometer Six - Uxbridge, MA Chocolog Street\")\n",
    "accel.xlabel('24 hrs')\n",
    "accel.grid(True)\n",
    "\n",
    "accel.show()"
   ]
  },
  {
   "cell_type": "code",
   "execution_count": null,
   "metadata": {},
   "outputs": [],
   "source": [
    "#Plot acceleration 06-z\n",
    "ax = plt.gca()\n",
    "master.plot(kind='line',x='received',y='accel_6_z',color='red', ax=ax)\n",
    "accel.ylabel('Axis - Z')\n",
    "accel.title(\"Accelerometer Six - Uxbridge, MA Chocolog Street\")\n",
    "accel.xlabel('24 hrs')\n",
    "accel.grid(True)\n",
    "\n",
    "accel.show()"
   ]
  },
  {
   "cell_type": "code",
   "execution_count": null,
   "metadata": {},
   "outputs": [],
   "source": [
    "#Plot inclination 1\n",
    "ax = plt.gca()\n",
    "master.plot(kind='line',x='received',y='incl_1',color='red', ax=ax)\n",
    "inc.ylabel('Axis - ')\n",
    "inc.title(\"Inclinometer One - Uxbridge, MA Chocolog Street\")\n",
    "inc.xlabel('24 hrs')\n",
    "inc.grid(True)\n",
    "\n",
    "inc.show()\n"
   ]
  },
  {
   "cell_type": "code",
   "execution_count": null,
   "metadata": {},
   "outputs": [],
   "source": [
    "#Plot inclination 2\n",
    "ax = plt.gca()\n",
    "master.plot(kind='line',x='received',y='incl_2',color='red', ax=ax)\n",
    "inc.ylabel('Axis - ')\n",
    "inc.title(\"Inclinometer One - Uxbridge, MA Chocolog Street\")\n",
    "inc.xlabel('24 hrs')\n",
    "inc.grid(True)\n",
    "\n",
    "inc.show()\n"
   ]
  },
  {
   "cell_type": "code",
   "execution_count": null,
   "metadata": {},
   "outputs": [],
   "source": [
    "#Plot inclination 3\n",
    "ax = plt.gca()\n",
    "master.plot(kind='line',x='received',y='incl_3',color='red', ax=ax)\n",
    "inc.ylabel('Axis - ')\n",
    "inc.title(\"Inclinometer One - Uxbridge, MA Chocolog Street\")\n",
    "inc.xlabel('24 hrs')\n",
    "inc.grid(True)\n",
    "\n",
    "inc.show()\n"
   ]
  },
  {
   "cell_type": "code",
   "execution_count": null,
   "metadata": {},
   "outputs": [],
   "source": [
    "#Plot inclination 4\n",
    "ax = plt.gca()\n",
    "master.plot(kind='line',x='received',y='incl_4',color='red', ax=ax)\n",
    "inc.ylabel('Axis - ')\n",
    "inc.title(\"Inclinometer One - Uxbridge, MA Chocolog Street\")\n",
    "inc.xlabel('24 hrs')\n",
    "inc.grid(True)\n",
    "\n",
    "inc.show()\n"
   ]
  },
  {
   "cell_type": "code",
   "execution_count": null,
   "metadata": {},
   "outputs": [],
   "source": [
    "#Plot inclination 5\n",
    "ax = plt.gca()\n",
    "master.plot(kind='line',x='received',y='incl_5',color='red', ax=ax)\n",
    "inc.ylabel('Axis - ')\n",
    "inc.title(\"Inclinometer One - Uxbridge, MA Chocolog Street\")\n",
    "inc.xlabel('24 hrs')\n",
    "inc.grid(True)\n",
    "\n",
    "inc.show()\n"
   ]
  },
  {
   "cell_type": "code",
   "execution_count": null,
   "metadata": {},
   "outputs": [],
   "source": [
    "#Plot inclination 6\n",
    "ax = plt.gca()\n",
    "master.plot(kind='line',x='received',y='incl_6',color='red', ax=ax)\n",
    "inc.ylabel('Axis - ')\n",
    "inc.title(\"Inclinometer One - Uxbridge, MA Chocolog Street\")\n",
    "inc.xlabel('24 hrs')\n",
    "inc.grid(True)\n",
    "\n",
    "inc.show()\n"
   ]
  },
  {
   "cell_type": "code",
   "execution_count": null,
   "metadata": {},
   "outputs": [],
   "source": [
    "#Plot acceleration 01-x w.r.t. temp\n",
    "temp.plot(temp, data_acc['accel1'][0])\n",
    "temp.ylabel('Axis - X')\n",
    "temp.title(\"Accelerometer One - Uxbridge, MA Chocolog Street\")\n",
    "temp.xlabel('Temperature')\n",
    "temp.grid(True)\n",
    "\n",
    "temp.show()"
   ]
  },
  {
   "cell_type": "code",
   "execution_count": null,
   "metadata": {},
   "outputs": [],
   "source": [
    "#Plot acceleration 01-y w.r.t. temp\n",
    "temp.plot(temp, data_acc['accel1'][1])\n",
    "temp.ylabel('Axis - X')\n",
    "temp.xlabel('Temperature')\n",
    "temp.grid(True)\n",
    "\n",
    "temp.show()"
   ]
  },
  {
   "cell_type": "code",
   "execution_count": null,
   "metadata": {},
   "outputs": [],
   "source": [
    "#Plot acceleration 01-z w.r.t. temp\n",
    "temp.plot(temp, data_acc['accel1'][2])\n",
    "temp.ylabel('Axis - X')\n",
    "temp.title(\"Accelerometer One - Uxbridge, MA Chocolog Street\")\n",
    "temp.xlabel('Temperature')\n",
    "temp.grid(True)\n",
    "\n",
    "temp.show()"
   ]
  },
  {
   "cell_type": "code",
   "execution_count": null,
   "metadata": {},
   "outputs": [],
   "source": [
    "#Plot acceleration 02-x w.r.t. temp\n",
    "temp.plot(temp, data_acc['accel2'][0])\n",
    "temp.ylabel('Axis - X')\n",
    "temp.title(\"Accelerometer Two - Uxbridge, MA Chocolog Street\")\n",
    "temp.xlabel('Temperature')\n",
    "temp.grid(True)\n",
    "\n",
    "temp.show()"
   ]
  },
  {
   "cell_type": "code",
   "execution_count": null,
   "metadata": {},
   "outputs": [],
   "source": [
    "#Plot acceleration 02-y w.r.t. temp\n",
    "temp.plot(temp, data_acc['accel2'][1])\n",
    "temp.ylabel('Axis - Y')\n",
    "temp.title(\"Accelerometer Two - Uxbridge, MA Chocolog Street\")\n",
    "temp.xlabel('Temperature')\n",
    "temp.grid(True)\n",
    "\n",
    "temp.show()"
   ]
  },
  {
   "cell_type": "code",
   "execution_count": null,
   "metadata": {},
   "outputs": [],
   "source": [
    "#Plot acceleration 02-z w.r.t. temp\n",
    "temp.plot(temp, data_acc['accel2'][2])\n",
    "temp.ylabel('Axis - Z')\n",
    "temp.title(\"Accelerometer Two - Uxbridge, MA Chocolog Street\")\n",
    "temp.xlabel('Temperature')\n",
    "temp.grid(True)\n",
    "\n",
    "temp.show()"
   ]
  },
  {
   "cell_type": "code",
   "execution_count": null,
   "metadata": {},
   "outputs": [],
   "source": [
    "#Plot acceleration 03-x w.r.t. temp\n",
    "temp.plot(temp, data_acc['accel3'][0])\n",
    "temp.ylabel('Axis - X')\n",
    "temp.title(\"Accelerometer Three - Uxbridge, MA Chocolog Street\")\n",
    "temp.xlabel('Temperature')\n",
    "temp.grid(True)\n",
    "\n",
    "temp.show()"
   ]
  },
  {
   "cell_type": "code",
   "execution_count": null,
   "metadata": {},
   "outputs": [],
   "source": [
    "#Plot acceleration 03-x w.r.t. temp\n",
    "temp.plot(temp, data_acc['accel3'][1])\n",
    "temp.ylabel('Axis - Y')\n",
    "temp.title(\"Accelerometer Three - Uxbridge, MA Chocolog Street\")\n",
    "temp.xlabel('Temperature')\n",
    "temp.grid(True)\n",
    "\n",
    "temp.show()"
   ]
  },
  {
   "cell_type": "code",
   "execution_count": null,
   "metadata": {},
   "outputs": [],
   "source": [
    "#Plot acceleration 03-x w.r.t. temp\n",
    "temp.plot(temp, data_acc['accel3'][2])\n",
    "temp.ylabel('Axis - Z')\n",
    "temp.title(\"Accelerometer Three - Uxbridge, MA Chocolog Street\")\n",
    "temp.xlabel('Temperature')\n",
    "temp.grid(True)\n",
    "\n",
    "temp.show()"
   ]
  },
  {
   "cell_type": "code",
   "execution_count": null,
   "metadata": {},
   "outputs": [],
   "source": [
    "#Plot acceleration 04-x w.r.t. temp\n",
    "temp.plot(temp, data_acc['accel4'][0])\n",
    "temp.ylabel('Axis - X')\n",
    "temp.title(\"Accelerometer Four - Uxbridge, MA Chocolog Street\")\n",
    "temp.xlabel('Temperature')\n",
    "temp.grid(True)\n",
    "\n",
    "temp.show()"
   ]
  },
  {
   "cell_type": "code",
   "execution_count": null,
   "metadata": {},
   "outputs": [],
   "source": [
    "#Plot acceleration 04-y w.r.t. temp\n",
    "temp.plot(temp, data_acc['accel4'][1])\n",
    "temp.ylabel('Axis - Y')\n",
    "temp.title(\"Accelerometer Four - Uxbridge, MA Chocolog Street\")\n",
    "temp.xlabel('Temperature')\n",
    "temp.grid(True)\n",
    "\n",
    "temp.show()"
   ]
  },
  {
   "cell_type": "code",
   "execution_count": null,
   "metadata": {},
   "outputs": [],
   "source": [
    "#Plot acceleration 04-z w.r.t. temp\n",
    "temp.plot(temperature[data_acc['received']], data_acc['accel4'][2])\n",
    "temp.ylabel('Axis - Z')\n",
    "temp.title(\"Accelerometer Four - Uxbridge, MA Chocolog Street\")\n",
    "temp.xlabel('Temperature')\n",
    "temp.grid(True)\n",
    "\n",
    "temp.show()"
   ]
  },
  {
   "cell_type": "code",
   "execution_count": null,
   "metadata": {},
   "outputs": [],
   "source": [
    "#Plot acceleration 05-x w.r.t. temp\n",
    "temp.plot(temp, data_acc['accel5'][0])\n",
    "temp.ylabel('Axis - X')\n",
    "temp.title(\"Accelerometer Five - Uxbridge, MA Chocolog Street\")\n",
    "temp.xlabel('Temperature')\n",
    "temp.grid(True)\n",
    "\n",
    "temp.show()"
   ]
  },
  {
   "cell_type": "code",
   "execution_count": null,
   "metadata": {},
   "outputs": [],
   "source": [
    "#Plot acceleration 05-y w.r.t. temp\n",
    "temp.plot(temp, data_acc['accel5'][1])\n",
    "temp.ylabel('Axis - Y')\n",
    "temp.title(\"Accelerometer Five - Uxbridge, MA Chocolog Street\")\n",
    "temp.xlabel('Temperature')\n",
    "temp.grid(True)\n",
    "\n",
    "temp.show()"
   ]
  },
  {
   "cell_type": "code",
   "execution_count": null,
   "metadata": {},
   "outputs": [],
   "source": [
    "#Plot acceleration 05-z w.r.t. temp\n",
    "temp.plot(temp, data_acc['accel5'][2])\n",
    "temp.ylabel('Axis - Z')\n",
    "temp.title(\"Accelerometer Five - Uxbridge, MA Chocolog Street\")\n",
    "temp.xlabel('Temperature')\n",
    "temp.grid(True)\n",
    "\n",
    "temp.show()"
   ]
  },
  {
   "cell_type": "code",
   "execution_count": null,
   "metadata": {},
   "outputs": [],
   "source": [
    "#Plot acceleration 06-x w.r.t. temp\n",
    "temp.plot(temp, data_acc['accel6'][0])\n",
    "temp.ylabel('Axis - X')\n",
    "temp.title(\"Accelerometer Six - Uxbridge, MA Chocolog Street\")\n",
    "temp.xlabel('Temperature')\n",
    "temp.grid(True)\n",
    "\n",
    "temp.show()"
   ]
  },
  {
   "cell_type": "code",
   "execution_count": null,
   "metadata": {},
   "outputs": [],
   "source": [
    "#Plot acceleration 06-y w.r.t. temp\n",
    "temp.plot(temp, data_acc['accel6'][1])\n",
    "temp.ylabel('Axis - Y')\n",
    "temp.title(\"Accelerometer Six - Uxbridge, MA Chocolog Street\")\n",
    "temp.xlabel('Temperature')\n",
    "temp.grid(True)\n",
    "\n",
    "temp.show()"
   ]
  },
  {
   "cell_type": "code",
   "execution_count": null,
   "metadata": {},
   "outputs": [],
   "source": [
    "#Plot acceleration 06-z w.r.t. temp\n",
    "temp.plot(temp, data_acc['accel6'][2])\n",
    "temp.ylabel('Axis - Z')\n",
    "temp.title(\"Accelerometer Six - Uxbridge, MA Chocolog Street\")\n",
    "temp.xlabel('Temperature')\n",
    "temp.grid(True)\n",
    "\n",
    "temp.show()"
   ]
  },
  {
   "cell_type": "code",
   "execution_count": null,
   "metadata": {},
   "outputs": [],
   "source": [
    "#Plot inclination 01 w.r.t. temp\n",
    "temp.plot(temp, data_incl['inc1'])\n",
    "temp.ylabel('Axis - Z')\n",
    "temp.title(\"Incl_Sensor One - Uxbridge, MA Chocolog Street\")\n",
    "temp.xlabel('Temperature')\n",
    "temp.grid(True)\n",
    "\n",
    "temp.show()"
   ]
  },
  {
   "cell_type": "code",
   "execution_count": null,
   "metadata": {},
   "outputs": [],
   "source": [
    "#Plot inclination 02 w.r.t. temp\n",
    "temp.plot(temp, data_incl['inc2'])\n",
    "temp.ylabel('Axis - Z')\n",
    "temp.title(\"Incl_Sensor Two - Uxbridge, MA Chocolog Street\")\n",
    "temp.xlabel('Temperature')\n",
    "temp.grid(True)\n",
    "\n",
    "temp.show()"
   ]
  },
  {
   "cell_type": "code",
   "execution_count": null,
   "metadata": {},
   "outputs": [],
   "source": [
    "#Plot inclination 03 w.r.t. temp\n",
    "temp.plot(temp, data_incl['inc3'])\n",
    "temp.ylabel('Axis - Z')\n",
    "temp.title(\"Incl_Sensor Three - Uxbridge, MA Chocolog Street\")\n",
    "temp.xlabel('Temperature')\n",
    "temp.grid(True)\n",
    "\n",
    "temp.show()"
   ]
  },
  {
   "cell_type": "code",
   "execution_count": null,
   "metadata": {},
   "outputs": [],
   "source": [
    "#Plot inclination 04 w.r.t. temp\n",
    "temp.plot(temp, data_incl['inc4'])\n",
    "temp.ylabel('Axis - Z')\n",
    "temp.title(\"Incl_Sensor Four - Uxbridge, MA Chocolog Street\")\n",
    "temp.xlabel('Temperature')\n",
    "temp.grid(True)\n",
    "\n",
    "temp.show()"
   ]
  },
  {
   "cell_type": "code",
   "execution_count": null,
   "metadata": {},
   "outputs": [],
   "source": [
    "#Plot inclination 05 w.r.t. temp\n",
    "temp.plot(temp, data_incl['inc5'])\n",
    "temp.ylabel('Axis - Z')\n",
    "temp.title(\"Incl_Sensor Five - Uxbridge, MA Chocolog Street\")\n",
    "temp.xlabel('Temperature')\n",
    "temp.grid(True)\n",
    "\n",
    "temp.show()"
   ]
  },
  {
   "cell_type": "code",
   "execution_count": null,
   "metadata": {},
   "outputs": [],
   "source": [
    "#Plot inclination 06 w.r.t. temp\n",
    "temp.plot(temp, data_incl['inc6'])\n",
    "temp.ylabel('Axis - Z')\n",
    "temp.title(\"Incl_Sensor Six - Uxbridge, MA Chocolog Street\")\n",
    "temp.xlabel('Temperature')\n",
    "temp.grid(True)\n",
    "\n",
    "temp.show()"
   ]
  }
 ],
 "metadata": {
  "kernelspec": {
   "display_name": "Python 3",
   "language": "python",
   "name": "python3"
  },
  "language_info": {
   "codemirror_mode": {
    "name": "ipython",
    "version": 3
   },
   "file_extension": ".py",
   "mimetype": "text/x-python",
   "name": "python",
   "nbconvert_exporter": "python",
   "pygments_lexer": "ipython3",
   "version": "3.7.4"
  }
 },
 "nbformat": 4,
 "nbformat_minor": 2
}
