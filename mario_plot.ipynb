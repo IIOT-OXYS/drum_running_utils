{
 "cells": [
  {
   "cell_type": "code",
   "execution_count": 1,
   "metadata": {},
   "outputs": [],
   "source": [
    "import matplotlib.pyplot as plt\n",
    "from pandas import read_csv"
   ]
  },
  {
   "cell_type": "code",
   "execution_count": 2,
   "metadata": {},
   "outputs": [],
   "source": [
    "header = ['id', 'eventtime', 'accel_1_x', 'accel_1_y', 'accel_1_z', 'accel_2_x','accel_2_y', 'accel_2_z', 'accel_3_x', 'accel_3_y', 'accel_3_z', 'accel_4_x', 'accel_4_y', 'accel_4_z', 'accel_5_x', 'accel_5_y', 'accel_5_z', 'accel_6_x', 'accel_6_y', 'accel_6_z', 'incl_1', 'incl_2', 'incl_3', 'incl_4', 'incl_5', 'incl_6', 'received']\n",
    "master = read_csv('~/bridge/sept01.csv', names=header, low_memory=False)"
   ]
  },
  {
   "cell_type": "code",
   "execution_count": 3,
   "metadata": {},
   "outputs": [],
   "source": [
    "plt.rcParams[\"figure.figsize\"] = (20, 5)\n",
    "accel = plt"
   ]
  },
  {
   "cell_type": "code",
   "execution_count": 4,
   "metadata": {},
   "outputs": [],
   "source": [
    "x = master['received'][0:100000]"
   ]
  },
  {
   "cell_type": "code",
   "execution_count": 5,
   "metadata": {},
   "outputs": [],
   "source": [
    "y = master['eventtime'][0:100000]"
   ]
  },
  {
   "cell_type": "code",
   "execution_count": null,
   "metadata": {},
   "outputs": [
    {
     "data": {
      "text/plain": [
       "'ACCEL 1 X AXIS RESERVOIR STREET HOLDEN, MA'"
      ]
     },
     "metadata": {},
     "output_type": "display_data"
    }
   ],
   "source": [
    "display('ACCEL 1 X AXIS RESERVOIR STREET HOLDEN, MA')\n",
    "\n",
    "accel.plot(x, y)\n",
    "\n",
    "accel.show()\n"
   ]
  },
  {
   "cell_type": "code",
   "execution_count": null,
   "metadata": {},
   "outputs": [],
   "source": [
    "#Plot acceleration 01-y\n",
    "accel.plot(data_acc['received'], data_acc['accel1'][1])\n",
    "accel.ylabel('Axis - Y')\n",
    "accel.title(\"Accelerometer One - Uxbridge, MA Chocolog Street\")\n",
    "accel.xlabel('24 hrs')\n",
    "accel.grid(True)\n",
    "\n",
    "accel.show()\n"
   ]
  },
  {
   "cell_type": "code",
   "execution_count": null,
   "metadata": {},
   "outputs": [],
   "source": [
    "#Plot acceleration 01-z\n",
    "accel.plot(data_acc['received'], data_acc['accel1'][2])\n",
    "accel.ylabel('Axis - Z')\n",
    "accel.title(\"Accelerometer One - Uxbridge, MA Chocolog Street\")\n",
    "accel.xlabel('24 hrs')\n",
    "accel.grid(True)\n",
    "\n",
    "accel.show()\n"
   ]
  },
  {
   "cell_type": "code",
   "execution_count": null,
   "metadata": {},
   "outputs": [],
   "source": [
    "#Plot acceleration 02-x\n",
    "accel.plot(data_acc['received'], data_acc['accel2'][0])\n",
    "accel.ylabel('Axis - X')\n",
    "accel.title(\"Accelerometer Two - Uxbridge, MA Chocolog Street\")\n",
    "accel.xlabel('24 hrs')\n",
    "accel.grid(True)\n",
    "\n",
    "accel.show()"
   ]
  },
  {
   "cell_type": "code",
   "execution_count": null,
   "metadata": {},
   "outputs": [],
   "source": [
    "#Plot acceleration 02-y\n",
    "accel.plot(data_acc['received'], data_acc['accel2'][1])\n",
    "accel.ylabel('Axis - Y')\n",
    "accel.title(\"Accelerometer Two - Uxbridge, MA Chocolog Street\")\n",
    "accel.xlabel('24 hrs')\n",
    "accel.grid(True)\n",
    "\n",
    "accel.show()\n"
   ]
  },
  {
   "cell_type": "code",
   "execution_count": null,
   "metadata": {},
   "outputs": [],
   "source": [
    "#Plot acceleration 02-z\n",
    "accel.plot(data_acc['received'], data_acc['accel2'][2])\n",
    "accel.ylabel('Axis - Z')\n",
    "accel.title(\"Accelerometer Two - Uxbridge, MA Chocolog Street\")\n",
    "accel.xlabel('24 hrs')\n",
    "accel.grid(True)\n",
    "\n",
    "accel.show()"
   ]
  },
  {
   "cell_type": "code",
   "execution_count": null,
   "metadata": {},
   "outputs": [],
   "source": [
    "#Plot acceleration 03-x\n",
    "accel.plot(data_acc['received'], data_acc['accel3'][0])\n",
    "accel.ylabel('Axis - X')\n",
    "accel.title(\"Accelerometer Three - Uxbridge, MA Chocolog Street\")\n",
    "accel.xlabel('24 hrs')\n",
    "accel.grid(True)\n",
    "\n",
    "accel.show()"
   ]
  },
  {
   "cell_type": "code",
   "execution_count": null,
   "metadata": {},
   "outputs": [],
   "source": [
    "#Plot acceleration 03-y\n",
    "accel.plot(data_acc['received'], data_acc['accel3'][1])\n",
    "accel.ylabel('Axis - Y')\n",
    "accel.title(\"Accelerometer Three - Uxbridge, MA Chocolog Street\")\n",
    "accel.xlabel('24 hrs')\n",
    "accel.grid(True)\n",
    "\n",
    "accel.show()"
   ]
  },
  {
   "cell_type": "code",
   "execution_count": null,
   "metadata": {},
   "outputs": [],
   "source": [
    "#Plot acceleration 03-z\n",
    "accel.plot(data_acc['received'], data_acc['accel3'][2])\n",
    "accel.ylabel('Axis - Z')\n",
    "accel.title(\"Accelerometer Three - Uxbridge, MA Chocolog Street\")\n",
    "accel.xlabel('24 hrs')\n",
    "accel.grid(True)\n",
    "\n",
    "accel.show()\n"
   ]
  },
  {
   "cell_type": "code",
   "execution_count": null,
   "metadata": {},
   "outputs": [],
   "source": [
    "#Plot acceleration 04-x\n",
    "accel.plot(data_acc['received'], data_acc['accel4'][0])\n",
    "accel.ylabel('Axis - X')\n",
    "accel.title(\"Accelerometer Four - Uxbridge, MA Chocolog Street\")\n",
    "accel.xlabel('24 hrs')\n",
    "accel.grid(True)\n",
    "\n",
    "accel.show()\n"
   ]
  },
  {
   "cell_type": "code",
   "execution_count": null,
   "metadata": {},
   "outputs": [],
   "source": [
    "#Plot acceleration 04-y\n",
    "accel.plot(data_acc['received'], data_acc['accel4'][1])\n",
    "accel.ylabel('Axis - Y')\n",
    "accel.title(\"Accelerometer Four - Uxbridge, MA Chocolog Street\")\n",
    "accel.xlabel('24 hrs')\n",
    "accel.grid(True)\n",
    "\n",
    "accel.show()"
   ]
  },
  {
   "cell_type": "code",
   "execution_count": null,
   "metadata": {},
   "outputs": [],
   "source": [
    "#Plot acceleration 04-z\n",
    "accel.plot(data_acc['received'], data_acc['accel4'][2])\n",
    "accel.ylabel('Axis - Z')\n",
    "accel.title(\"Accelerometer Four - Uxbridge, MA Chocolog Street\")\n",
    "accel.xlabel('24 hrs')\n",
    "accel.grid(True)\n",
    "\n",
    "accel.show()"
   ]
  },
  {
   "cell_type": "code",
   "execution_count": null,
   "metadata": {},
   "outputs": [],
   "source": [
    "#Plot acceleration 05-x\n",
    "accel.plot(data_acc['received'], data_acc['accel5'][0])\n",
    "accel.ylabel('Axis - X')\n",
    "accel.title(\"Accelerometer Five - Uxbridge, MA Chocolog Street\")\n",
    "accel.xlabel('24 hrs')\n",
    "accel.grid(True)\n",
    "\n",
    "accel.show()"
   ]
  },
  {
   "cell_type": "code",
   "execution_count": null,
   "metadata": {},
   "outputs": [],
   "source": [
    "#Plot acceleration 05-y\n",
    "accel.plot(data_acc['received'], data_acc['accel5'][1])\n",
    "accel.ylabel('Axis - Y')\n",
    "accel.title(\"Accelerometer Five - Uxbridge, MA Chocolog Street\")\n",
    "accel.xlabel('24 hrs')\n",
    "accel.grid(True)\n",
    "\n",
    "accel.show()"
   ]
  },
  {
   "cell_type": "code",
   "execution_count": null,
   "metadata": {},
   "outputs": [],
   "source": [
    "#Plot acceleration 05-z\n",
    "accel.plot(data_acc['received'], data_acc['accel5'][2])\n",
    "accel.ylabel('Axis - Z')\n",
    "accel.title(\"Accelerometer Five - Uxbridge, MA Chocolog Street\")\n",
    "accel.xlabel('24 hrs')\n",
    "accel.grid(True)\n",
    "\n",
    "accel.show()\n"
   ]
  },
  {
   "cell_type": "code",
   "execution_count": null,
   "metadata": {},
   "outputs": [],
   "source": [
    "#Plot acceleration 06-x\n",
    "accel.plot(data_acc['received'], data_acc['accel6'][0])\n",
    "accel.ylabel('Axis - X')\n",
    "accel.title(\"Accelerometer Six - Uxbridge, MA Chocolog Street\")\n",
    "accel.xlabel('24 hrs')\n",
    "accel.grid(True)\n",
    "\n",
    "accel.show()"
   ]
  },
  {
   "cell_type": "code",
   "execution_count": null,
   "metadata": {},
   "outputs": [],
   "source": [
    "#Plot acceleration 06-y\n",
    "accel.plot(data_acc['received'], data_acc['accel6'][1])\n",
    "accel.ylabel('Axis - Y')\n",
    "accel.title(\"Accelerometer Six - Uxbridge, MA Chocolog Street\")\n",
    "accel.xlabel('24 hrs')\n",
    "accel.grid(True)\n",
    "\n",
    "accel.show()"
   ]
  },
  {
   "cell_type": "code",
   "execution_count": null,
   "metadata": {},
   "outputs": [],
   "source": [
    "#Plot acceleration 06-z\n",
    "accel.plot(data_acc['received'], data_acc['accel6'][2])\n",
    "accel.ylabel('Axis - Z')\n",
    "accel.title(\"Accelerometer Six - Uxbridge, MA Chocolog Street\")\n",
    "accel.xlabel('24 hrs')\n",
    "accel.grid(True)\n",
    "\n",
    "accel.show()"
   ]
  },
  {
   "cell_type": "code",
   "execution_count": null,
   "metadata": {},
   "outputs": [],
   "source": [
    "#Plot inclination 1\n",
    "inc.plot(data_incl['received'], data_incl['inc1'])\n",
    "inc.ylabel('Axis - ')\n",
    "inc.title(\"Inclinometer One - Uxbridge, MA Chocolog Street\")\n",
    "inc.xlabel('24 hrs')\n",
    "inc.grid(True)\n",
    "\n",
    "inc.show()\n"
   ]
  },
  {
   "cell_type": "code",
   "execution_count": null,
   "metadata": {},
   "outputs": [],
   "source": [
    "#Plot inclination 2\n",
    "inc.plot(data_incl['received'], data_incl['inc2'])\n",
    "inc.ylabel('Axis - ')\n",
    "inc.title(\"Inclinometer One - Uxbridge, MA Chocolog Street\")\n",
    "inc.xlabel('24 hrs')\n",
    "inc.grid(True)\n",
    "\n",
    "inc.show()\n"
   ]
  },
  {
   "cell_type": "code",
   "execution_count": null,
   "metadata": {},
   "outputs": [],
   "source": [
    "#Plot inclination 3\n",
    "inc.plot(data_incl['received'], data_incl['inc3'])\n",
    "inc.ylabel('Axis - ')\n",
    "inc.title(\"Inclinometer One - Uxbridge, MA Chocolog Street\")\n",
    "inc.xlabel('24 hrs')\n",
    "inc.grid(True)\n",
    "\n",
    "inc.show()\n"
   ]
  },
  {
   "cell_type": "code",
   "execution_count": null,
   "metadata": {},
   "outputs": [],
   "source": [
    "#Plot inclination 4\n",
    "inc.plot(data_incl['received'], data_incl['inc4'])\n",
    "inc.ylabel('Axis - ')\n",
    "inc.title(\"Inclinometer One - Uxbridge, MA Chocolog Street\")\n",
    "inc.xlabel('24 hrs')\n",
    "inc.grid(True)\n",
    "\n",
    "inc.show()\n"
   ]
  },
  {
   "cell_type": "code",
   "execution_count": null,
   "metadata": {},
   "outputs": [],
   "source": [
    "#Plot inclination 5\n",
    "inc.plot(data_incl['received'], data_incl['inc5'])\n",
    "inc.ylabel('Axis - ')\n",
    "inc.title(\"Inclinometer One - Uxbridge, MA Chocolog Street\")\n",
    "inc.xlabel('24 hrs')\n",
    "inc.grid(True)\n",
    "\n",
    "inc.show()\n"
   ]
  },
  {
   "cell_type": "code",
   "execution_count": null,
   "metadata": {},
   "outputs": [],
   "source": [
    "#Plot inclination 6\n",
    "inc.plot(data_incl['received'], data_incl['inc6'])\n",
    "inc.ylabel('Axis - ')\n",
    "inc.title(\"Inclinometer One - Uxbridge, MA Chocolog Street\")\n",
    "inc.xlabel('24 hrs')\n",
    "inc.grid(True)\n",
    "\n",
    "inc.show()\n"
   ]
  },
  {
   "cell_type": "code",
   "execution_count": null,
   "metadata": {},
   "outputs": [],
   "source": [
    "#Plot acceleration 01-x w.r.t. temp\n",
    "temp.plot(temperature[data_acc['received']], data_acc['accel1'][0])\n",
    "temp.ylabel('Axis - X')\n",
    "temp.title(\"Accelerometer One - Uxbridge, MA Chocolog Street\")\n",
    "temp.xlabel('Temperature')\n",
    "temp.grid(True)\n",
    "\n",
    "temp.show()"
   ]
  },
  {
   "cell_type": "code",
   "execution_count": null,
   "metadata": {},
   "outputs": [],
   "source": [
    "#Plot acceleration 01-y w.r.t. temp\n",
    "temp.plot(temperature[data_acc['received']], data_acc['accel1'][1])\n",
    "temp.ylabel('Axis - X')\n",
    "temp.xlabel('Temperature')\n",
    "temp.grid(True)\n",
    "\n",
    "temp.show()"
   ]
  },
  {
   "cell_type": "code",
   "execution_count": null,
   "metadata": {},
   "outputs": [],
   "source": [
    "#Plot acceleration 01-z w.r.t. temp\n",
    "temp.plot(temperature[data_acc['received']], data_acc['accel1'][2])\n",
    "temp.ylabel('Axis - X')\n",
    "temp.title(\"Accelerometer One - Uxbridge, MA Chocolog Street\")\n",
    "temp.xlabel('Temperature')\n",
    "temp.grid(True)\n",
    "\n",
    "temp.show()"
   ]
  },
  {
   "cell_type": "code",
   "execution_count": null,
   "metadata": {},
   "outputs": [],
   "source": [
    "#Plot acceleration 02-x w.r.t. temp\n",
    "temp.plot(temperature[data_acc['received']], data_acc['accel2'][0])\n",
    "temp.ylabel('Axis - X')\n",
    "temp.title(\"Accelerometer Two - Uxbridge, MA Chocolog Street\")\n",
    "temp.xlabel('Temperature')\n",
    "temp.grid(True)\n",
    "\n",
    "temp.show()"
   ]
  },
  {
   "cell_type": "code",
   "execution_count": null,
   "metadata": {},
   "outputs": [],
   "source": [
    "#Plot acceleration 02-y w.r.t. temp\n",
    "temp.plot(temperature[data_acc['received']], data_acc['accel2'][1])\n",
    "temp.ylabel('Axis - Y')\n",
    "temp.title(\"Accelerometer Two - Uxbridge, MA Chocolog Street\")\n",
    "temp.xlabel('Temperature')\n",
    "temp.grid(True)\n",
    "\n",
    "temp.show()"
   ]
  },
  {
   "cell_type": "code",
   "execution_count": null,
   "metadata": {},
   "outputs": [],
   "source": [
    "#Plot acceleration 02-z w.r.t. temp\n",
    "temp.plot(temperature[data_acc['received']], data_acc['accel2'][2])\n",
    "temp.ylabel('Axis - Z')\n",
    "temp.title(\"Accelerometer Two - Uxbridge, MA Chocolog Street\")\n",
    "temp.xlabel('Temperature')\n",
    "temp.grid(True)\n",
    "\n",
    "temp.show()"
   ]
  },
  {
   "cell_type": "code",
   "execution_count": null,
   "metadata": {},
   "outputs": [],
   "source": [
    "#Plot acceleration 03-x w.r.t. temp\n",
    "temp.plot(temperature[data_acc['received']], data_acc['accel3'][0])\n",
    "temp.ylabel('Axis - X')\n",
    "temp.title(\"Accelerometer Three - Uxbridge, MA Chocolog Street\")\n",
    "temp.xlabel('Temperature')\n",
    "temp.grid(True)\n",
    "\n",
    "temp.show()"
   ]
  },
  {
   "cell_type": "code",
   "execution_count": null,
   "metadata": {},
   "outputs": [],
   "source": [
    "#Plot acceleration 03-x w.r.t. temp\n",
    "temp.plot(temperature[data_acc['received']], data_acc['accel3'][1])\n",
    "temp.ylabel('Axis - Y')\n",
    "temp.title(\"Accelerometer Three - Uxbridge, MA Chocolog Street\")\n",
    "temp.xlabel('Temperature')\n",
    "temp.grid(True)\n",
    "\n",
    "temp.show()"
   ]
  },
  {
   "cell_type": "code",
   "execution_count": null,
   "metadata": {},
   "outputs": [],
   "source": [
    "#Plot acceleration 03-x w.r.t. temp\n",
    "temp.plot(temperature[data_acc['received']], data_acc['accel3'][2])\n",
    "temp.ylabel('Axis - Z')\n",
    "temp.title(\"Accelerometer Three - Uxbridge, MA Chocolog Street\")\n",
    "temp.xlabel('Temperature')\n",
    "temp.grid(True)\n",
    "\n",
    "temp.show()"
   ]
  },
  {
   "cell_type": "code",
   "execution_count": null,
   "metadata": {},
   "outputs": [],
   "source": [
    "#Plot acceleration 04-x w.r.t. temp\n",
    "temp.plot(temperature[data_acc['received']], data_acc['accel4'][0])\n",
    "temp.ylabel('Axis - X')\n",
    "temp.title(\"Accelerometer Four - Uxbridge, MA Chocolog Street\")\n",
    "temp.xlabel('Temperature')\n",
    "temp.grid(True)\n",
    "\n",
    "temp.show()"
   ]
  },
  {
   "cell_type": "code",
   "execution_count": null,
   "metadata": {},
   "outputs": [],
   "source": [
    "#Plot acceleration 04-y w.r.t. temp\n",
    "temp.plot(temperature[data_acc['received']], data_acc['accel4'][1])\n",
    "temp.ylabel('Axis - Y')\n",
    "temp.title(\"Accelerometer Four - Uxbridge, MA Chocolog Street\")\n",
    "temp.xlabel('Temperature')\n",
    "temp.grid(True)\n",
    "\n",
    "temp.show()"
   ]
  },
  {
   "cell_type": "code",
   "execution_count": null,
   "metadata": {},
   "outputs": [],
   "source": [
    "#Plot acceleration 04-z w.r.t. temp\n",
    "temp.plot(temperature[data_acc['received']], data_acc['accel4'][2])\n",
    "temp.ylabel('Axis - Z')\n",
    "temp.title(\"Accelerometer Four - Uxbridge, MA Chocolog Street\")\n",
    "temp.xlabel('Temperature')\n",
    "temp.grid(True)\n",
    "\n",
    "temp.show()"
   ]
  },
  {
   "cell_type": "code",
   "execution_count": null,
   "metadata": {},
   "outputs": [],
   "source": [
    "#Plot acceleration 05-x w.r.t. temp\n",
    "temp.plot(temperature[data_acc['received']], data_acc['accel5'][0])\n",
    "temp.ylabel('Axis - X')\n",
    "temp.title(\"Accelerometer Five - Uxbridge, MA Chocolog Street\")\n",
    "temp.xlabel('Temperature')\n",
    "temp.grid(True)\n",
    "\n",
    "temp.show()"
   ]
  },
  {
   "cell_type": "code",
   "execution_count": null,
   "metadata": {},
   "outputs": [],
   "source": [
    "#Plot acceleration 05-y w.r.t. temp\n",
    "temp.plot(temperature[data_acc['received']], data_acc['accel5'][1])\n",
    "temp.ylabel('Axis - Y')\n",
    "temp.title(\"Accelerometer Five - Uxbridge, MA Chocolog Street\")\n",
    "temp.xlabel('Temperature')\n",
    "temp.grid(True)\n",
    "\n",
    "temp.show()"
   ]
  },
  {
   "cell_type": "code",
   "execution_count": null,
   "metadata": {},
   "outputs": [],
   "source": [
    "#Plot acceleration 05-z w.r.t. temp\n",
    "temp.plot(temperature[data_acc['received']], data_acc['accel5'][2])\n",
    "temp.ylabel('Axis - Z')\n",
    "temp.title(\"Accelerometer Five - Uxbridge, MA Chocolog Street\")\n",
    "temp.xlabel('Temperature')\n",
    "temp.grid(True)\n",
    "\n",
    "temp.show()"
   ]
  },
  {
   "cell_type": "code",
   "execution_count": null,
   "metadata": {},
   "outputs": [],
   "source": [
    "#Plot acceleration 06-x w.r.t. temp\n",
    "temp.plot(temperature[data_acc['received']], data_acc['accel6'][0])\n",
    "temp.ylabel('Axis - X')\n",
    "temp.title(\"Accelerometer Six - Uxbridge, MA Chocolog Street\")\n",
    "temp.xlabel('Temperature')\n",
    "temp.grid(True)\n",
    "\n",
    "temp.show()"
   ]
  },
  {
   "cell_type": "code",
   "execution_count": null,
   "metadata": {},
   "outputs": [],
   "source": [
    "#Plot acceleration 06-y w.r.t. temp\n",
    "temp.plot(temperature[data_acc['received']], data_acc['accel6'][1])\n",
    "temp.ylabel('Axis - Y')\n",
    "temp.title(\"Accelerometer Six - Uxbridge, MA Chocolog Street\")\n",
    "temp.xlabel('Temperature')\n",
    "temp.grid(True)\n",
    "\n",
    "temp.show()"
   ]
  },
  {
   "cell_type": "code",
   "execution_count": null,
   "metadata": {},
   "outputs": [],
   "source": [
    "#Plot acceleration 06-z w.r.t. temp\n",
    "temp.plot(temperature[data_acc['received']], data_acc['accel6'][2])\n",
    "temp.ylabel('Axis - Z')\n",
    "temp.title(\"Accelerometer Six - Uxbridge, MA Chocolog Street\")\n",
    "temp.xlabel('Temperature')\n",
    "temp.grid(True)\n",
    "\n",
    "temp.show()"
   ]
  },
  {
   "cell_type": "code",
   "execution_count": null,
   "metadata": {},
   "outputs": [],
   "source": [
    "#Plot inclination 01 w.r.t. temp\n",
    "temp.plot(temperature[data_incl['received']], data_incl['inc1'])\n",
    "temp.ylabel('Axis - Z')\n",
    "temp.title(\"Incl_Sensor One - Uxbridge, MA Chocolog Street\")\n",
    "temp.xlabel('Temperature')\n",
    "temp.grid(True)\n",
    "\n",
    "temp.show()"
   ]
  },
  {
   "cell_type": "code",
   "execution_count": null,
   "metadata": {},
   "outputs": [],
   "source": [
    "#Plot inclination 02 w.r.t. temp\n",
    "temp.plot(temperature[data_incl['received']], data_incl['inc2'])\n",
    "temp.ylabel('Axis - Z')\n",
    "temp.title(\"Incl_Sensor Two - Uxbridge, MA Chocolog Street\")\n",
    "temp.xlabel('Temperature')\n",
    "temp.grid(True)\n",
    "\n",
    "temp.show()"
   ]
  },
  {
   "cell_type": "code",
   "execution_count": null,
   "metadata": {},
   "outputs": [],
   "source": [
    "#Plot inclination 03 w.r.t. temp\n",
    "temp.plot(temperature[data_incl['received']], data_incl['inc3'])\n",
    "temp.ylabel('Axis - Z')\n",
    "temp.title(\"Incl_Sensor Three - Uxbridge, MA Chocolog Street\")\n",
    "temp.xlabel('Temperature')\n",
    "temp.grid(True)\n",
    "\n",
    "temp.show()"
   ]
  },
  {
   "cell_type": "code",
   "execution_count": null,
   "metadata": {},
   "outputs": [],
   "source": [
    "#Plot inclination 04 w.r.t. temp\n",
    "temp.plot(temperature[data_incl['received']], data_incl['inc4'])\n",
    "temp.ylabel('Axis - Z')\n",
    "temp.title(\"Incl_Sensor Four - Uxbridge, MA Chocolog Street\")\n",
    "temp.xlabel('Temperature')\n",
    "temp.grid(True)\n",
    "\n",
    "temp.show()"
   ]
  },
  {
   "cell_type": "code",
   "execution_count": null,
   "metadata": {},
   "outputs": [],
   "source": [
    "#Plot inclination 05 w.r.t. temp\n",
    "temp.plot(temperature[data_incl['received']], data_incl['inc5'])\n",
    "temp.ylabel('Axis - Z')\n",
    "temp.title(\"Incl_Sensor Five - Uxbridge, MA Chocolog Street\")\n",
    "temp.xlabel('Temperature')\n",
    "temp.grid(True)\n",
    "\n",
    "temp.show()"
   ]
  },
  {
   "cell_type": "code",
   "execution_count": null,
   "metadata": {},
   "outputs": [],
   "source": [
    "#Plot inclination 06 w.r.t. temp\n",
    "temp.plot(temperature[data_incl['received']], data_incl['inc6'])\n",
    "temp.ylabel('Axis - Z')\n",
    "temp.title(\"Incl_Sensor Six - Uxbridge, MA Chocolog Street\")\n",
    "temp.xlabel('Temperature')\n",
    "temp.grid(True)\n",
    "\n",
    "temp.show()"
   ]
  }
 ],
 "metadata": {
  "kernelspec": {
   "display_name": "Python 3",
   "language": "python",
   "name": "python3"
  },
  "language_info": {
   "codemirror_mode": {
    "name": "ipython",
    "version": 3
   },
   "file_extension": ".py",
   "mimetype": "text/x-python",
   "name": "python",
   "nbconvert_exporter": "python",
   "pygments_lexer": "ipython3",
   "version": "3.7.4"
  }
 },
 "nbformat": 4,
 "nbformat_minor": 2
}
