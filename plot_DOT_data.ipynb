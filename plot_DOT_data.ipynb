{
 "cells": [
  {
   "cell_type": "code",
   "execution_count": 1,
   "metadata": {},
   "outputs": [],
   "source": [
    "import matplotlib.pyplot as plt\n",
    "import datetime\n",
    "#from sshtunnel import SSHTunnelForwarder\n",
    "#import psycopg2\n",
    "from pandas import read_csv"
   ]
  },
  {
   "cell_type": "code",
   "execution_count": 2,
   "metadata": {},
   "outputs": [
    {
     "name": "stdout",
     "output_type": "stream",
     "text": [
      "          id     eventtime  accel_1_x  accel_1_y  accel_1_z  accel_2_x  \\\n",
      "0  129881743  1.567282e+09   6.079945   5.970705   3.352367   5.950346   \n",
      "1  129881744  1.567282e+09   6.078339   5.977462   3.354489   5.942620   \n",
      "2  129881745  1.567282e+09   6.083371   5.972439   3.351835   5.947178   \n",
      "3  129881746  1.567282e+09   6.089327   5.974648   3.349126   5.946964   \n",
      "4  129881747  1.567282e+09   6.083040   5.969065   3.349669   5.941364   \n",
      "\n",
      "   accel_2_y  accel_2_z  accel_3_x  accel_3_y  ...  accel_6_x  accel_6_y  \\\n",
      "0   5.909606   3.361601   6.090122   6.039665  ...   5.890344   5.857710   \n",
      "1   5.915777   3.361630   6.087561   6.043735  ...   5.886479   5.850656   \n",
      "2   5.912450   3.359635   6.083359   6.034921  ...   5.886385   5.853241   \n",
      "3   5.911304   3.365591   6.087561   6.042810  ...   5.888684   5.844299   \n",
      "4   5.917823   3.361032   6.090989   6.035963  ...   5.885611   5.853917   \n",
      "\n",
      "   accel_6_z    incl_1    incl_2    incl_3    incl_4    incl_5    incl_6  \\\n",
      "0   3.326484  6.269716  5.867112  6.086109  6.586866  6.096096  5.904514   \n",
      "1   3.332773  6.269484  5.867428  6.086943  6.586035  6.094983  5.904690   \n",
      "2   3.331315  6.270027  5.866708  6.085647  6.585916  6.096110  5.903910   \n",
      "3   3.325348  6.269953  5.867036  6.086802  6.586065  6.094770  5.903720   \n",
      "4   3.324925  6.268907  5.866696  6.085366  6.586754  6.096184  5.903183   \n",
      "\n",
      "                  received  \n",
      "0  2019-08-31 20:00:00.162  \n",
      "1  2019-08-31 20:00:00.162  \n",
      "2  2019-08-31 20:00:00.162  \n",
      "3  2019-08-31 20:00:00.163  \n",
      "4  2019-08-31 20:00:00.222  \n",
      "\n",
      "[5 rows x 27 columns]\n",
      "0    6.079945\n",
      "1    6.078339\n",
      "2    6.083371\n",
      "3    6.089327\n",
      "4    6.083040\n",
      "Name: accel_1_x, dtype: float64\n"
     ]
    }
   ],
   "source": [
    "#Read CSV File\n",
    "master = read_csv('~/bridge/sept01.csv')\n",
    "print(master.head())\n",
    "accel_1_x = master['accel_1_x'][:]\n",
    "accel_1_y = master['accel_1_y'][:]\n",
    "accel_1_z = master['accel_1_z'][:]\n",
    "\n",
    "accel_2_x = master['accel_2_x'][:]\n",
    "accel_2_y = master['accel_2_y'][:]\n",
    "accel_2_z = master['accel_2_z'][:]\n",
    "\n",
    "accel_3_x = master['accel_3_x'][:]\n",
    "accel_3_y = master['accel_3_y'][:]\n",
    "accel_3_z = master['accel_3_z'][:]\n",
    "\n",
    "accel_4_x = master['accel_4_x'][:]\n",
    "accel_4_y = master['accel_4_y'][:]\n",
    "accel_4_z = master['accel_4_z'][:]\n",
    "\n",
    "accel_5_x = master['accel_5_x'][:]\n",
    "accel_5_y = master['accel_5_y'][:]\n",
    "accel_5_z = master['accel_5_z'][:]\n",
    "\n",
    "accel_6_x = master['accel_6_x'][:]\n",
    "accel_6_y = master['accel_6_y'][:]\n",
    "accel_6_z = master['accel_6_z'][:]\n",
    "\n",
    "received = master['received'][:]\n",
    "print(accel_1_x.head())"
   ]
  },
  {
   "cell_type": "code",
   "execution_count": 3,
   "metadata": {},
   "outputs": [],
   "source": [
    "# Secure tunnel variables\n",
    "host = 'ec2-3-17-203-3.us-east-2.compute.amazonaws.com'\n",
    "ssh_username = 'ubuntu'\n",
    "ss_private_key = 'awskey.pem'"
   ]
  },
  {
   "cell_type": "code",
   "execution_count": 4,
   "metadata": {},
   "outputs": [],
   "source": [
    "# Database variables\n",
    "POSTGRES_USER='drum_running'\n",
    "password='king_crimson'\n",
    "database='MA_DOT'"
   ]
  },
  {
   "cell_type": "code",
   "execution_count": 5,
   "metadata": {},
   "outputs": [
    {
     "ename": "NameError",
     "evalue": "name 'SSHTunnelForwarder' is not defined",
     "output_type": "error",
     "traceback": [
      "\u001b[0;31m---------------------------------------------------------------------------\u001b[0m",
      "\u001b[0;31mNameError\u001b[0m                                 Traceback (most recent call last)",
      "\u001b[0;32m<ipython-input-5-e52c8ff56bda>\u001b[0m in \u001b[0;36m<module>\u001b[0;34m\u001b[0m\n\u001b[1;32m      1\u001b[0m \u001b[0;31m# Initiate ssh session with drum_running(AWS)\u001b[0m\u001b[0;34m\u001b[0m\u001b[0;34m\u001b[0m\u001b[0;34m\u001b[0m\u001b[0m\n\u001b[0;32m----> 2\u001b[0;31m tunnel = SSHTunnelForwarder(\n\u001b[0m\u001b[1;32m      3\u001b[0m     \u001b[0;34m(\u001b[0m\u001b[0mhost\u001b[0m\u001b[0;34m,\u001b[0m \u001b[0;36m22\u001b[0m\u001b[0;34m)\u001b[0m\u001b[0;34m,\u001b[0m\u001b[0;34m\u001b[0m\u001b[0;34m\u001b[0m\u001b[0m\n\u001b[1;32m      4\u001b[0m     \u001b[0mssh_username\u001b[0m\u001b[0;34m=\u001b[0m\u001b[0mssh_username\u001b[0m\u001b[0;34m,\u001b[0m\u001b[0;34m\u001b[0m\u001b[0;34m\u001b[0m\u001b[0m\n\u001b[1;32m      5\u001b[0m     \u001b[0mssh_private_key\u001b[0m\u001b[0;34m=\u001b[0m\u001b[0mss_private_key\u001b[0m\u001b[0;34m,\u001b[0m\u001b[0;34m\u001b[0m\u001b[0;34m\u001b[0m\u001b[0m\n",
      "\u001b[0;31mNameError\u001b[0m: name 'SSHTunnelForwarder' is not defined"
     ]
    }
   ],
   "source": [
    "# Initiate ssh session with drum_running(AWS)\n",
    "tunnel = SSHTunnelForwarder(\n",
    "    (host, 22),\n",
    "    ssh_username=ssh_username,\n",
    "    ssh_private_key=ss_private_key,\n",
    "    remote_bind_address=('localhost', 5432),\n",
    "    local_bind_address=('localhost', 1111),\n",
    ")"
   ]
  },
  {
   "cell_type": "code",
   "execution_count": 6,
   "metadata": {},
   "outputs": [],
   "source": [
    "# Function that will execute the SQL command to the server\n",
    "def pg_data(start_hour, end_hour, table):\n",
    "    tunnel.start()\n",
    "    \n",
    "    conn = psycopg2.connect(\n",
    "        database=database,\n",
    "        user=POSTGRES_USER,\n",
    "        password=password,\n",
    "        host=tunnel.local_bind_host,\n",
    "        port=tunnel.local_bind_port,\n",
    "    )\n",
    "    dt = datetime.datetime.today()\n",
    "    \n",
    "    cur = conn.cursor()\n",
    "    \n",
    "    cur.execute(\"SELECT eventtime, accel_1_x, accel_1_y, accel_1_z, accel_2_x, accel_2_y, accel_2_z, accel_3_x, accel_3_y, accel_3_z, accel_4_x, accel_4_y, accel_4_z, accel_5_x, accel_5_y, accel_5_z, accel_6_x, accel_6_y, accel_6_z FROM {6} WHERE received BETWEEN '2019-{0}-{1} {4}:00:00' AND '2019-{2}-{3} {5}:59:00' ORDER BY id\".format(\n",
    "        dt.month, \n",
    "        dt.day -2, \n",
    "        dt.month, \n",
    "        dt.day -1,\n",
    "        start_hour,\n",
    "        end_hour,\n",
    "        table\n",
    "    ))\n",
    "    \n",
    "    data = cur.fetchall()\n",
    "    \n",
    "    conn.close()\n",
    "    \n",
    "    tunnel.stop()\n",
    "    \n",
    "    return data\n"
   ]
  },
  {
   "cell_type": "code",
   "execution_count": 7,
   "metadata": {},
   "outputs": [],
   "source": [
    "# Function that will format the data from PostgreSQL into an organized data structure\n",
    "def parsed_inc_plot(result):\n",
    "    accel1 = [[],[],[]]\n",
    "    accel2 = [[],[],[]]\n",
    "    accel3 = [[],[],[]]\n",
    "    accel4 = [[],[],[]]\n",
    "    accel5 = [[],[],[]]\n",
    "    accel6 = [[],[],[]]\n",
    "    received = []\n",
    "\n",
    "    for i in range(len(result)):      \n",
    "        accel1[0].append(result[i][7])\n",
    "        accel1[1].append(result[i][8])\n",
    "        accel1[2].append(result[i][9])\n",
    "        \n",
    "        accel2[0].append(result[i][10])\n",
    "        accel2[1].append(result[i][11])\n",
    "        accel2[2].append(result[i][12])\n",
    "        \n",
    "        accel3[0].append(result[i][13])\n",
    "        accel3[1].append(result[i][14])\n",
    "        accel3[2].append(result[i][15])\n",
    "        \n",
    "        accel4[0].append(result[i][16])\n",
    "        accel4[1].append(result[i][17])\n",
    "        accel4[2].append(result[i][18])\n",
    "        \n",
    "        accel5[0].append(result[i][19])\n",
    "        accel5[1].append(result[i][20])\n",
    "        accel5[2].append(result[i][21])\n",
    "        \n",
    "        accel6[0].append(result[i][22])\n",
    "        accel6[1].append(result[i][23])\n",
    "        accel6[2].append(result[i][24])\n",
    "        \n",
    "        received.append(result[i][0])\n",
    "        \n",
    "    return { \n",
    "        \"accel1\": accel1,\n",
    "        \"accel2\": accel2,\n",
    "        \"accel3\": accel3,\n",
    "        \"accel4\": accel4,\n",
    "        \"accel5\": accel5,\n",
    "        \"accel6\": accel6,\n",
    "        \"received\": received \n",
    "    }\n",
    "\n"
   ]
  },
  {
   "cell_type": "code",
   "execution_count": 10,
   "metadata": {},
   "outputs": [],
   "source": [
    "# Function that will format the data from CSV_File into an organized data structure\n",
    "def parsed_inc_plot(result):\n",
    "    accel1 = [[],[],[]]\n",
    "    accel2 = [[],[],[]]\n",
    "    accel3 = [[],[],[]]\n",
    "    accel4 = [[],[],[]]\n",
    "    accel5 = [[],[],[]]\n",
    "    accel6 = [[],[],[]]\n",
    "    received = []\n",
    "      \n",
    "    accel_1_x = result['accel_1_x'][:]\n",
    "    accel_1_y = result['accel_1_y'][:]\n",
    "    accel_1_z = result['accel_1_z'][:]\n",
    "\n",
    "    accel_2_x = result['accel_2_x'][:]\n",
    "    accel_2_y = result['accel_2_y'][:]\n",
    "    accel_2_z = result['accel_2_z'][:]\n",
    "\n",
    "    accel_3_x = result['accel_3_x'][:]\n",
    "    accel_3_y = result['accel_3_y'][:]\n",
    "    accel_3_z = result['accel_3_z'][:]\n",
    "\n",
    "    accel_4_x = result['accel_4_x'][:]\n",
    "    accel_4_y = result['accel_4_y'][:]\n",
    "    accel_4_z = result['accel_4_z'][:]\n",
    "\n",
    "    accel_5_x = result['accel_5_x'][:]\n",
    "    accel_5_y = result['accel_5_y'][:]\n",
    "    accel_5_z = result['accel_5_z'][:]\n",
    "\n",
    "    accel_6_x = result['accel_6_x'][:]\n",
    "    accel_6_y = result['accel_6_y'][:]\n",
    "    accel_6_z = result['accel_6_z'][:]\n",
    "    \n",
    "    received = result['received'][:]\n",
    "    \n",
    "    for i in range(len(result)):      \n",
    "        accel1[0].append(accel_1_x[i])\n",
    "        accel1[1].append(accel_1_y[i])\n",
    "        accel1[2].append(accel_1_z[i])\n",
    "        \n",
    "        accel2[0].append(accel_2_x[i])\n",
    "        accel2[1].append(accel_2_y[i])\n",
    "        accel2[2].append(accel_2_z[i])\n",
    "        \n",
    "        accel3[0].append(accel_3_x[i])\n",
    "        accel3[1].append(accel_3_y[i])\n",
    "        accel3[2].append(accel_3_z[i])\n",
    "        \n",
    "        accel4[0].append(accel_4_x[i])\n",
    "        accel4[1].append(accel_4_y[i])\n",
    "        accel4[2].append(accel_4_z[i])\n",
    "        \n",
    "        accel5[0].append(accel_5_x[i])\n",
    "        accel5[1].append(accel_5_y[i])\n",
    "        accel5[2].append(accel_5_z[i])\n",
    "        \n",
    "        accel6[0].append(accel_6_x[i])\n",
    "        accel6[1].append(accel_6_y[i])\n",
    "        accel6[2].append(accel_6_z[i])\n",
    "        \n",
    "        #received.append(received[i])\n",
    "        \n",
    "    return { \n",
    "        \"accel1\": accel1,\n",
    "        \"accel2\": accel2,\n",
    "        \"accel3\": accel3,\n",
    "        \"accel4\": accel4,\n",
    "        \"accel5\": accel5,\n",
    "        \"accel6\": accel6,\n",
    "        #\"received\": received \n",
    "    }\n",
    "\n"
   ]
  },
  {
   "cell_type": "code",
   "execution_count": 55,
   "metadata": {},
   "outputs": [
    {
     "name": "stderr",
     "output_type": "stream",
     "text": [
      "2019-09-30 11:55:17,965| ERROR   | Could not open connection to gateway\n"
     ]
    },
    {
     "ename": "BaseSSHTunnelForwarderError",
     "evalue": "Could not establish session to SSH gateway",
     "output_type": "error",
     "traceback": [
      "\u001b[0;31m---------------------------------------------------------------------------\u001b[0m",
      "\u001b[0;31mBaseSSHTunnelForwarderError\u001b[0m               Traceback (most recent call last)",
      "\u001b[0;32m<ipython-input-55-c701d0ae1146>\u001b[0m in \u001b[0;36m<module>\u001b[0;34m\u001b[0m\n\u001b[1;32m      1\u001b[0m \u001b[0;31m# Get data from server, parse, format and instantiate linear chart library configuration\u001b[0m\u001b[0;34m\u001b[0m\u001b[0;34m\u001b[0m\u001b[0;34m\u001b[0m\u001b[0m\n\u001b[1;32m      2\u001b[0m \u001b[0mplt\u001b[0m\u001b[0;34m.\u001b[0m\u001b[0mrcParams\u001b[0m\u001b[0;34m[\u001b[0m\u001b[0;34m\"figure.figsize\"\u001b[0m\u001b[0;34m]\u001b[0m \u001b[0;34m=\u001b[0m \u001b[0;34m(\u001b[0m\u001b[0;36m50\u001b[0m\u001b[0;34m,\u001b[0m \u001b[0;36m10\u001b[0m\u001b[0;34m)\u001b[0m\u001b[0;34m\u001b[0m\u001b[0;34m\u001b[0m\u001b[0m\n\u001b[0;32m----> 3\u001b[0;31m \u001b[0mresult\u001b[0m \u001b[0;34m=\u001b[0m \u001b[0mpg_data\u001b[0m\u001b[0;34m(\u001b[0m\u001b[0;34m\"18\"\u001b[0m\u001b[0;34m,\u001b[0m \u001b[0;34m\"17\"\u001b[0m\u001b[0;34m,\u001b[0m \u001b[0;34m\"uxbridge_chocolog_st\"\u001b[0m\u001b[0;34m)\u001b[0m\u001b[0;34m\u001b[0m\u001b[0;34m\u001b[0m\u001b[0m\n\u001b[0m\u001b[1;32m      4\u001b[0m \u001b[0mparsed_inc_data\u001b[0m \u001b[0;34m=\u001b[0m \u001b[0mparsed_inc_plot\u001b[0m\u001b[0;34m(\u001b[0m\u001b[0mresult\u001b[0m\u001b[0;34m)\u001b[0m\u001b[0;34m\u001b[0m\u001b[0;34m\u001b[0m\u001b[0m\n\u001b[1;32m      5\u001b[0m \u001b[0minc\u001b[0m \u001b[0;34m=\u001b[0m \u001b[0mplt\u001b[0m\u001b[0;34m\u001b[0m\u001b[0;34m\u001b[0m\u001b[0m\n",
      "\u001b[0;32m<ipython-input-52-bc837df3049b>\u001b[0m in \u001b[0;36mpg_data\u001b[0;34m(start_hour, end_hour, table)\u001b[0m\n\u001b[1;32m      1\u001b[0m \u001b[0;31m# Function that will execute the SQL command to the server\u001b[0m\u001b[0;34m\u001b[0m\u001b[0;34m\u001b[0m\u001b[0;34m\u001b[0m\u001b[0m\n\u001b[1;32m      2\u001b[0m \u001b[0;32mdef\u001b[0m \u001b[0mpg_data\u001b[0m\u001b[0;34m(\u001b[0m\u001b[0mstart_hour\u001b[0m\u001b[0;34m,\u001b[0m \u001b[0mend_hour\u001b[0m\u001b[0;34m,\u001b[0m \u001b[0mtable\u001b[0m\u001b[0;34m)\u001b[0m\u001b[0;34m:\u001b[0m\u001b[0;34m\u001b[0m\u001b[0;34m\u001b[0m\u001b[0m\n\u001b[0;32m----> 3\u001b[0;31m     \u001b[0mtunnel\u001b[0m\u001b[0;34m.\u001b[0m\u001b[0mstart\u001b[0m\u001b[0;34m(\u001b[0m\u001b[0;34m)\u001b[0m\u001b[0;34m\u001b[0m\u001b[0;34m\u001b[0m\u001b[0m\n\u001b[0m\u001b[1;32m      4\u001b[0m \u001b[0;34m\u001b[0m\u001b[0m\n\u001b[1;32m      5\u001b[0m     conn = psycopg2.connect(\n",
      "\u001b[0;32m~/anaconda3/lib/python3.7/site-packages/sshtunnel.py\u001b[0m in \u001b[0;36mstart\u001b[0;34m(self)\u001b[0m\n\u001b[1;32m   1292\u001b[0m         \u001b[0;32mif\u001b[0m \u001b[0;32mnot\u001b[0m \u001b[0mself\u001b[0m\u001b[0;34m.\u001b[0m\u001b[0mis_active\u001b[0m\u001b[0;34m:\u001b[0m\u001b[0;34m\u001b[0m\u001b[0;34m\u001b[0m\u001b[0m\n\u001b[1;32m   1293\u001b[0m             self._raise(BaseSSHTunnelForwarderError,\n\u001b[0;32m-> 1294\u001b[0;31m                         reason='Could not establish session to SSH gateway')\n\u001b[0m\u001b[1;32m   1295\u001b[0m         \u001b[0;32mfor\u001b[0m \u001b[0m_srv\u001b[0m \u001b[0;32min\u001b[0m \u001b[0mself\u001b[0m\u001b[0;34m.\u001b[0m\u001b[0m_server_list\u001b[0m\u001b[0;34m:\u001b[0m\u001b[0;34m\u001b[0m\u001b[0;34m\u001b[0m\u001b[0m\n\u001b[1;32m   1296\u001b[0m             thread = threading.Thread(\n",
      "\u001b[0;32m~/anaconda3/lib/python3.7/site-packages/sshtunnel.py\u001b[0m in \u001b[0;36m_raise\u001b[0;34m(self, exception, reason)\u001b[0m\n\u001b[1;32m   1098\u001b[0m     \u001b[0;32mdef\u001b[0m \u001b[0m_raise\u001b[0m\u001b[0;34m(\u001b[0m\u001b[0mself\u001b[0m\u001b[0;34m,\u001b[0m \u001b[0mexception\u001b[0m\u001b[0;34m=\u001b[0m\u001b[0mBaseSSHTunnelForwarderError\u001b[0m\u001b[0;34m,\u001b[0m \u001b[0mreason\u001b[0m\u001b[0;34m=\u001b[0m\u001b[0;32mNone\u001b[0m\u001b[0;34m)\u001b[0m\u001b[0;34m:\u001b[0m\u001b[0;34m\u001b[0m\u001b[0;34m\u001b[0m\u001b[0m\n\u001b[1;32m   1099\u001b[0m         \u001b[0;32mif\u001b[0m \u001b[0mself\u001b[0m\u001b[0;34m.\u001b[0m\u001b[0m_raise_fwd_exc\u001b[0m\u001b[0;34m:\u001b[0m\u001b[0;34m\u001b[0m\u001b[0;34m\u001b[0m\u001b[0m\n\u001b[0;32m-> 1100\u001b[0;31m             \u001b[0;32mraise\u001b[0m \u001b[0mexception\u001b[0m\u001b[0;34m(\u001b[0m\u001b[0mreason\u001b[0m\u001b[0;34m)\u001b[0m\u001b[0;34m\u001b[0m\u001b[0;34m\u001b[0m\u001b[0m\n\u001b[0m\u001b[1;32m   1101\u001b[0m         \u001b[0;32melse\u001b[0m\u001b[0;34m:\u001b[0m\u001b[0;34m\u001b[0m\u001b[0;34m\u001b[0m\u001b[0m\n\u001b[1;32m   1102\u001b[0m             \u001b[0mself\u001b[0m\u001b[0;34m.\u001b[0m\u001b[0mlogger\u001b[0m\u001b[0;34m.\u001b[0m\u001b[0merror\u001b[0m\u001b[0;34m(\u001b[0m\u001b[0mrepr\u001b[0m\u001b[0;34m(\u001b[0m\u001b[0mexception\u001b[0m\u001b[0;34m(\u001b[0m\u001b[0mreason\u001b[0m\u001b[0;34m)\u001b[0m\u001b[0;34m)\u001b[0m\u001b[0;34m)\u001b[0m\u001b[0;34m\u001b[0m\u001b[0;34m\u001b[0m\u001b[0m\n",
      "\u001b[0;31mBaseSSHTunnelForwarderError\u001b[0m: Could not establish session to SSH gateway"
     ]
    }
   ],
   "source": [
    "# Get data from server, parse, format and instantiate linear chart library configuration\n",
    "plt.rcParams[\"figure.figsize\"] = (50, 10)\n",
    "result = pg_data(\"18\", \"17\", \"uxbridge_chocolog_st\")\n",
    "parsed_inc_data = parsed_inc_plot(result)\n",
    "inc = plt\n",
    "accel = plt"
   ]
  },
  {
   "cell_type": "code",
   "execution_count": null,
   "metadata": {},
   "outputs": [],
   "source": [
    "inc.plot(parsed_inc_data['received'], parsed_inc_data['inc1'])\n",
    "inc.ylabel('Axis - Y')\n",
    "inc.title(\"Inclinometer One - Uxbridge, MA Chocolog Street\")\n",
    "inc.xlabel('24 hrs')\n",
    "inc.grid(True)\n",
    "\n",
    "inc.show()\n"
   ]
  },
  {
   "cell_type": "code",
   "execution_count": null,
   "metadata": {},
   "outputs": [],
   "source": [
    "inc.plot(parsed_inc_data['received'], parsed_inc_data['inc2'])\n",
    "inc.ylabel('Axis - Y')\n",
    "inc.title(\"Inclinometer Two - Uxbridge, MA Chocolog Street\")\n",
    "inc.xlabel('24 hrs')\n",
    "inc.grid(True)\n",
    "\n",
    "inc.show()\n"
   ]
  },
  {
   "cell_type": "code",
   "execution_count": null,
   "metadata": {},
   "outputs": [],
   "source": [
    "inc.plot(parsed_inc_data['received'], parsed_inc_data['inc3'])\n",
    "inc.ylabel('Axis - Y')\n",
    "inc.title(\"Inclinometer Three - Uxbridge, MA Chocolog Street\")\n",
    "inc.xlabel('24 hrs')\n",
    "inc.grid(True)\n",
    "\n",
    "inc.show()\n"
   ]
  },
  {
   "cell_type": "code",
   "execution_count": null,
   "metadata": {},
   "outputs": [],
   "source": [
    "inc.plot(parsed_inc_data['received'], parsed_inc_data['inc4'])\n",
    "inc.ylabel('Axis - Y')\n",
    "inc.title(\"Inclinometer Four - Uxbridge, MA Chocolog Street\")\n",
    "inc.xlabel('24 hrs')\n",
    "inc.grid(True)\n",
    "\n",
    "inc.show()\n"
   ]
  },
  {
   "cell_type": "code",
   "execution_count": null,
   "metadata": {},
   "outputs": [],
   "source": [
    "inc.plot(parsed_inc_data['received'], parsed_inc_data['inc5'])\n",
    "inc.ylabel('Axis - Y')\n",
    "inc.title(\"Inclinometer Five - Uxbridge, MA Chocolog Street\")\n",
    "inc.xlabel('24 hrs')\n",
    "inc.grid(True)\n",
    "\n",
    "inc.show()\n"
   ]
  },
  {
   "cell_type": "code",
   "execution_count": null,
   "metadata": {},
   "outputs": [],
   "source": [
    "accel.plot(parsed_inc_data['received'], parsed_inc_data['accel1'][0])\n",
    "accel.ylabel('Axis - X')\n",
    "accel.title(\"Accelerometer One - Uxbridge, MA Chocolog Street\")\n",
    "accel.xlabel('24 hrs')\n",
    "accel.grid(True)\n",
    "\n",
    "accel.show()\n"
   ]
  },
  {
   "cell_type": "code",
   "execution_count": null,
   "metadata": {},
   "outputs": [],
   "source": [
    "accel.plot(parsed_inc_data['received'], parsed_inc_data['accel1'][1])\n",
    "accel.ylabel('Axis - Y')\n",
    "accel.title(\"Accelerometer One - Uxbridge, MA Chocolog Street\")\n",
    "accel.xlabel('24 hrs')\n",
    "accel.grid(True)\n",
    "\n",
    "accel.show()\n"
   ]
  },
  {
   "cell_type": "code",
   "execution_count": null,
   "metadata": {},
   "outputs": [],
   "source": [
    "accel.plot(parsed_inc_data['received'], parsed_inc_data['accel1'][2])\n",
    "accel.ylabel('Axis - Z')\n",
    "accel.title(\"Accelerometer One - Uxbridge, MA Chocolog Street\")\n",
    "accel.xlabel('24 hrs')\n",
    "accel.grid(True)\n",
    "\n",
    "accel.show()\n"
   ]
  },
  {
   "cell_type": "code",
   "execution_count": null,
   "metadata": {},
   "outputs": [],
   "source": [
    "accel.plot(parsed_inc_data['received'], parsed_inc_data['accel2'][0])\n",
    "accel.ylabel('Axis - X')\n",
    "accel.title(\"Accelerometer Two - Uxbridge, MA Chocolog Street\")\n",
    "accel.xlabel('24 hrs')\n",
    "accel.grid(True)\n",
    "\n",
    "accel.show()\n"
   ]
  },
  {
   "cell_type": "code",
   "execution_count": null,
   "metadata": {},
   "outputs": [],
   "source": [
    "accel.plot(parsed_inc_data['received'], parsed_inc_data['accel2'][1])\n",
    "accel.ylabel('Axis - Y')\n",
    "accel.title(\"Accelerometer Two - Uxbridge, MA Chocolog Street\")\n",
    "accel.xlabel('24 hrs')\n",
    "accel.grid(True)\n",
    "\n",
    "accel.show()\n"
   ]
  },
  {
   "cell_type": "code",
   "execution_count": null,
   "metadata": {},
   "outputs": [],
   "source": [
    "accel.plot(parsed_inc_data['received'], parsed_inc_data['accel2'][2])\n",
    "accel.ylabel('Axis - Z')\n",
    "accel.title(\"Accelerometer Two - Uxbridge, MA Chocolog Street\")\n",
    "accel.xlabel('24 hrs')\n",
    "accel.grid(True)\n",
    "\n",
    "accel.show()\n"
   ]
  },
  {
   "cell_type": "code",
   "execution_count": null,
   "metadata": {},
   "outputs": [],
   "source": [
    "accel.plot(parsed_inc_data['received'], parsed_inc_data['accel3'][0])\n",
    "accel.ylabel('Axis - X')\n",
    "accel.title(\"Accelerometer Three - Uxbridge, MA Chocolog Street\")\n",
    "accel.xlabel('24 hrs')\n",
    "accel.grid(True)\n",
    "\n",
    "accel.show()\n"
   ]
  },
  {
   "cell_type": "code",
   "execution_count": null,
   "metadata": {},
   "outputs": [],
   "source": [
    "accel.plot(parsed_inc_data['received'], parsed_inc_data['accel3'][1])\n",
    "accel.ylabel('Axis - Y')\n",
    "accel.title(\"Accelerometer Three - Uxbridge, MA Chocolog Street\")\n",
    "accel.xlabel('24 hrs')\n",
    "accel.grid(True)\n",
    "\n",
    "accel.show()\n"
   ]
  },
  {
   "cell_type": "code",
   "execution_count": null,
   "metadata": {},
   "outputs": [],
   "source": [
    "accel.plot(parsed_inc_data['received'], parsed_inc_data['accel3'][2])\n",
    "accel.ylabel('Axis - Z')\n",
    "accel.title(\"Accelerometer Three - Uxbridge, MA Chocolog Street\")\n",
    "accel.xlabel('24 hrs')\n",
    "accel.grid(True)\n",
    "\n",
    "accel.show()\n"
   ]
  },
  {
   "cell_type": "code",
   "execution_count": null,
   "metadata": {},
   "outputs": [],
   "source": [
    "accel.plot(parsed_inc_data['received'], parsed_inc_data['accel4'][0])\n",
    "accel.ylabel('Axis - X')\n",
    "accel.title(\"Accelerometer Four - Uxbridge, MA Chocolog Street\")\n",
    "accel.xlabel('24 hrs')\n",
    "accel.grid(True)\n",
    "\n",
    "accel.show()\n"
   ]
  },
  {
   "cell_type": "code",
   "execution_count": null,
   "metadata": {},
   "outputs": [],
   "source": [
    "accel.plot(parsed_inc_data['received'], parsed_inc_data['accel4'][1])\n",
    "accel.ylabel('Axis - Y')\n",
    "accel.title(\"Accelerometer Four - Uxbridge, MA Chocolog Street\")\n",
    "accel.xlabel('24 hrs')\n",
    "accel.grid(True)\n",
    "\n",
    "accel.show()\n"
   ]
  },
  {
   "cell_type": "code",
   "execution_count": null,
   "metadata": {},
   "outputs": [],
   "source": [
    "accel.plot(parsed_inc_data['received'], parsed_inc_data['accel4'][2])\n",
    "accel.ylabel('Axis - Z')\n",
    "accel.title(\"Accelerometer Four - Uxbridge, MA Chocolog Street\")\n",
    "accel.xlabel('24 hrs')\n",
    "accel.grid(True)\n",
    "\n",
    "accel.show()\n"
   ]
  },
  {
   "cell_type": "code",
   "execution_count": null,
   "metadata": {},
   "outputs": [],
   "source": [
    "accel.plot(parsed_inc_data['received'], parsed_inc_data['accel5'][0])\n",
    "accel.ylabel('Axis - X')\n",
    "accel.title(\"Accelerometer Five - Uxbridge, MA Chocolog Street\")\n",
    "accel.xlabel('24 hrs')\n",
    "accel.grid(True)\n",
    "\n",
    "accel.show()\n"
   ]
  },
  {
   "cell_type": "code",
   "execution_count": null,
   "metadata": {},
   "outputs": [],
   "source": [
    "accel.plot(parsed_inc_data['received'], parsed_inc_data['accel5'][1])\n",
    "accel.ylabel('Axis - Y')\n",
    "accel.title(\"Accelerometer Five - Uxbridge, MA Chocolog Street\")\n",
    "accel.xlabel('24 hrs')\n",
    "accel.grid(True)\n",
    "\n",
    "accel.show()\n"
   ]
  },
  {
   "cell_type": "code",
   "execution_count": null,
   "metadata": {},
   "outputs": [],
   "source": [
    "accel.plot(parsed_inc_data['received'], parsed_inc_data['accel5'][2])\n",
    "accel.ylabel('Axis - Z')\n",
    "accel.title(\"Accelerometer Five - Uxbridge, MA Chocolog Street\")\n",
    "accel.xlabel('24 hrs')\n",
    "accel.grid(True)\n",
    "\n",
    "accel.show()\n"
   ]
  },
  {
   "cell_type": "code",
   "execution_count": null,
   "metadata": {},
   "outputs": [],
   "source": [
    "accel.plot(parsed_inc_data['received'], parsed_inc_data['accel6'][0])\n",
    "accel.ylabel('Axis - X')\n",
    "accel.title(\"Accelerometer Six - Uxbridge, MA Chocolog Street\")\n",
    "accel.xlabel('24 hrs')\n",
    "accel.grid(True)\n",
    "\n",
    "accel.show()\n"
   ]
  },
  {
   "cell_type": "code",
   "execution_count": null,
   "metadata": {},
   "outputs": [],
   "source": [
    "accel.plot(parsed_inc_data['received'], parsed_inc_data['accel6'][1])\n",
    "accel.ylabel('Axis - Y')\n",
    "accel.title(\"Accelerometer Six - Uxbridge, MA Chocolog Street\")\n",
    "accel.xlabel('24 hrs')\n",
    "accel.grid(True)\n",
    "\n",
    "accel.show()\n"
   ]
  },
  {
   "cell_type": "code",
   "execution_count": null,
   "metadata": {},
   "outputs": [],
   "source": [
    "accel.plot(parsed_inc_data['received'], parsed_inc_data['accel6'][2])\n",
    "accel.ylabel('Axis - Z')\n",
    "accel.title(\"Accelerometer Six - Uxbridge, MA Chocolog Street\")\n",
    "accel.xlabel('24 hrs')\n",
    "accel.grid(True)\n",
    "\n",
    "accel.show()\n"
   ]
  },
  {
   "cell_type": "code",
   "execution_count": null,
   "metadata": {},
   "outputs": [],
   "source": []
  }
 ],
 "metadata": {
  "kernelspec": {
   "display_name": "Python 3",
   "language": "python",
   "name": "python3"
  },
  "language_info": {
   "codemirror_mode": {
    "name": "ipython",
    "version": 3
   },
   "file_extension": ".py",
   "mimetype": "text/x-python",
   "name": "python",
   "nbconvert_exporter": "python",
   "pygments_lexer": "ipython3",
   "version": "3.7.4"
  }
 },
 "nbformat": 4,
 "nbformat_minor": 4
}
