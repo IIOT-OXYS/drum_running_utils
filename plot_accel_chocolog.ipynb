{
 "cells": [
  {
   "cell_type": "code",
   "execution_count": 1,
   "metadata": {},
   "outputs": [],
   "source": [
    "import matplotlib.pyplot as plt\n",
    "from datetime import datetime\n",
    "from sshtunnel import SSHTunnelForwarder\n",
    "import psycopg2"
   ]
  },
  {
   "cell_type": "code",
   "execution_count": 2,
   "metadata": {},
   "outputs": [],
   "source": [
    "# Secure tunnel variables\n",
    "host = 'ec2-3-17-203-3.us-east-2.compute.amazonaws.com'\n",
    "ssh_username = 'ubuntu'\n",
    "ss_private_key = 'awskey.pem'"
   ]
  },
  {
   "cell_type": "code",
   "execution_count": 3,
   "metadata": {},
   "outputs": [],
   "source": [
    "# Database variables\n",
    "POSTGRES_USER='drum_running'\n",
    "password='king_crimson'\n",
    "database='MA_DOT'\n",
    "table='uxbridge_chocolog_st'"
   ]
  },
  {
   "cell_type": "code",
   "execution_count": 4,
   "metadata": {},
   "outputs": [],
   "source": [
    "# Initiate ssh session with drum_running(AWS)\n",
    "tunnel = SSHTunnelForwarder(\n",
    "    (host, 22),\n",
    "    ssh_username=ssh_username,\n",
    "    ssh_private_key=ss_private_key,\n",
    "    remote_bind_address=('localhost', 5432),\n",
    "    local_bind_address=('localhost', 1111),\n",
    ")"
   ]
  },
  {
   "cell_type": "code",
   "execution_count": 5,
   "metadata": {},
   "outputs": [],
   "source": [
    "# Function that will execute the SQL command to the server\n",
    "def pg_data(start_hour, end_hour, table_name):\n",
    "    tunnel.start()\n",
    "    \n",
    "    conn = psycopg2.connect(\n",
    "        database=database,\n",
    "        user=POSTGRES_USER,\n",
    "        password=password,\n",
    "        host=tunnel.local_bind_host,\n",
    "        port=tunnel.local_bind_port,\n",
    "    )\n",
    "    dt = datetime.today()\n",
    "    \n",
    "    cur = conn.cursor()\n",
    "    \n",
    "    cur.execute(\"SELECT eventtime, accel_1_x, accel_1_y, accel_1_z, accel_2_x, accel_2_y, accel_2_z, accel_3_x, accel_3_y, accel_3_z, accel_4_x, accel_4_y, accel_4_z, accel_5_x, accel_5_y, accel_5_z, accel_6_x, accel_6_y, accel_6_z FROM {6} WHERE received BETWEEN '2019-{0}-{1} {4}:00:00' AND '2019-{2}-{3} {5}:59:00' ORDER BY id\".format(\n",
    "        dt.month, \n",
    "        dt.day -2, \n",
    "        dt.month, \n",
    "        dt.day -1,\n",
    "        start_hour,\n",
    "        end_hour,\n",
    "        table_name\n",
    "    ))\n",
    "    \n",
    "    data = cur.fetchall()\n",
    "    \n",
    "    conn.close()\n",
    "    \n",
    "    tunnel.stop()\n",
    "    \n",
    "    return data\n"
   ]
  },
  {
   "cell_type": "code",
   "execution_count": 6,
   "metadata": {},
   "outputs": [],
   "source": [
    "def convert_from_timestamp(series_point):\n",
    "    timestamp = datetime.fromtimestamp(series_point)\n",
    "    return timestamp\n"
   ]
  },
  {
   "cell_type": "code",
   "execution_count": 7,
   "metadata": {},
   "outputs": [],
   "source": [
    "# Function that will format the data from PostgreSQL into an organized data structure\n",
    "def parsed_accel_plot(result):\n",
    "    accel1 = [[],[],[]]\n",
    "    accel2 = [[],[],[]]\n",
    "    accel3 = [[],[],[]]\n",
    "    accel4 = [[],[],[]]\n",
    "    accel5 = [[],[],[]]\n",
    "    accel6 = [[],[],[]]\n",
    "    received = []\n",
    "\n",
    "    for i in range(len(result)):      \n",
    "        accel1[0].append(result[i][1])\n",
    "        accel1[1].append(result[i][2])\n",
    "        accel1[2].append(result[i][3])\n",
    "        \n",
    "        accel2[0].append(result[i][4])\n",
    "        accel2[1].append(result[i][5])\n",
    "        accel2[2].append(result[i][6])\n",
    "        \n",
    "        accel3[0].append(result[i][7])\n",
    "        accel3[1].append(result[i][8])\n",
    "        accel3[2].append(result[i][9])\n",
    "        \n",
    "        accel4[0].append(result[i][10])\n",
    "        accel4[1].append(result[i][11])\n",
    "        accel4[2].append(result[i][12])\n",
    "        \n",
    "        accel5[0].append(result[i][13])\n",
    "        accel5[1].append(result[i][14])\n",
    "        accel5[2].append(result[i][15])\n",
    "        \n",
    "        accel6[0].append(result[i][16])\n",
    "        accel6[1].append(result[i][17])\n",
    "        accel6[2].append(result[i][18])\n",
    "        \n",
    "        received.append(result[i][0])\n",
    "        \n",
    "    return { \n",
    "        \"accel1\": accel1,\n",
    "        \"accel2\": accel2,\n",
    "        \"accel3\": accel3,\n",
    "        \"accel4\": accel4,\n",
    "        \"accel5\": accel5,\n",
    "        \"accel6\": accel6,\n",
    "        \"received\": received \n",
    "    }\n",
    "\n"
   ]
  },
  {
   "cell_type": "code",
   "execution_count": 8,
   "metadata": {},
   "outputs": [],
   "source": [
    "result = pg_data(\"18\", \"17\", table)"
   ]
  },
  {
   "cell_type": "code",
   "execution_count": 9,
   "metadata": {},
   "outputs": [],
   "source": [
    "parsed_accel_data = parsed_accel_plot(result)"
   ]
  },
  {
   "cell_type": "code",
   "execution_count": 10,
   "metadata": {},
   "outputs": [],
   "source": [
    "# Get data from server, parse, format and instantiate linear chart library configuration\n",
    "plt.rcParams[\"figure.figsize\"] = (50, 10)\n",
    "accel = plt"
   ]
  },
  {
   "cell_type": "code",
   "execution_count": null,
   "metadata": {},
   "outputs": [],
   "source": [
    "accel.plot(parsed_accel_data['received'], parsed_accel_data['accel1'][0])\n",
    "accel.ylabel('Axis - X')\n",
    "accel.title(\"Accelerometer One - {}\".format(table))\n",
    "accel.xlabel('24 hrs')\n",
    "accel.grid(True)\n",
    "\n",
    "accel.show()\n",
    "\n"
   ]
  },
  {
   "cell_type": "code",
   "execution_count": null,
   "metadata": {},
   "outputs": [],
   "source": [
    "accel.plot(parsed_accel_data['received'], parsed_accel_data['accel1'][1])\n",
    "accel.ylabel('Axis - Y')\n",
    "accel.title(\"Accelerometer One - {}\".format(table))\n",
    "accel.xlabel('24 hrs')\n",
    "accel.grid(True)\n",
    "\n",
    "accel.show()\n",
    "\n"
   ]
  },
  {
   "cell_type": "code",
   "execution_count": null,
   "metadata": {},
   "outputs": [],
   "source": [
    "accel.plot(parsed_accel_data['received'], parsed_accel_data['accel1'][2])\n",
    "accel.ylabel('Axis - Z')\n",
    "accel.title(\"Accelerometer One - {}\".format(table))\n",
    "accel.xlabel('24 hrs')\n",
    "accel.grid(True)\n",
    "\n",
    "accel.show()\n",
    "\n",
    "\n"
   ]
  }
 ],
 "metadata": {
  "kernelspec": {
   "display_name": "Python 3",
   "language": "python",
   "name": "python3"
  },
  "language_info": {
   "codemirror_mode": {
    "name": "ipython",
    "version": 3
   },
   "file_extension": ".py",
   "mimetype": "text/x-python",
   "name": "python",
   "nbconvert_exporter": "python",
   "pygments_lexer": "ipython3",
   "version": "3.7.3"
  }
 },
 "nbformat": 4,
 "nbformat_minor": 4
}
